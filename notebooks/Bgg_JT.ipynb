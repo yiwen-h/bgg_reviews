{
 "cells": [
  {
   "cell_type": "markdown",
   "id": "154adcb8",
   "metadata": {},
   "source": [
    "# BoardGameGeek Review Score Prediction: Machine Learning (JT)"
   ]
  },
  {
   "cell_type": "markdown",
   "id": "cca23e89",
   "metadata": {},
   "source": [
    "Objective: To predict a user's review score based on their comments using machine learning"
   ]
  },
  {
   "cell_type": "code",
   "execution_count": 39,
   "id": "e4a457c5",
   "metadata": {
    "scrolled": true
   },
   "outputs": [
    {
     "name": "stdout",
     "output_type": "stream",
     "text": [
      "Collecting matplotlib\n",
      "  Downloading matplotlib-3.6.0-cp39-cp39-macosx_10_12_x86_64.whl (7.3 MB)\n",
      "\u001b[2K     \u001b[90m━━━━━━━━━━━━━━━━━━━━━━━━━━━━━━━━━━━━━━━━\u001b[0m \u001b[32m7.3/7.3 MB\u001b[0m \u001b[31m5.4 MB/s\u001b[0m eta \u001b[36m0:00:00\u001b[0m00:01\u001b[0m00:01\u001b[0m\n",
      "\u001b[?25hCollecting pillow>=6.2.0\n",
      "  Using cached Pillow-9.2.0-cp39-cp39-macosx_10_10_x86_64.whl (3.1 MB)\n",
      "Requirement already satisfied: packaging>=20.0 in /Users/jennatan/.pyenv/versions/bggreviews/lib/python3.9/site-packages (from matplotlib) (21.3)\n",
      "Collecting kiwisolver>=1.0.1\n",
      "  Downloading kiwisolver-1.4.4-cp39-cp39-macosx_10_9_x86_64.whl (65 kB)\n",
      "\u001b[2K     \u001b[90m━━━━━━━━━━━━━━━━━━━━━━━━━━━━━━━━━━━━━━━━\u001b[0m \u001b[32m65.5/65.5 kB\u001b[0m \u001b[31m1.9 MB/s\u001b[0m eta \u001b[36m0:00:00\u001b[0m\n",
      "\u001b[?25hCollecting contourpy>=1.0.1\n",
      "  Downloading contourpy-1.0.5-cp39-cp39-macosx_10_9_x86_64.whl (241 kB)\n",
      "\u001b[2K     \u001b[90m━━━━━━━━━━━━━━━━━━━━━━━━━━━━━━━━━━━━━━━\u001b[0m \u001b[32m241.3/241.3 kB\u001b[0m \u001b[31m4.7 MB/s\u001b[0m eta \u001b[36m0:00:00\u001b[0m00:01\u001b[0m\n",
      "\u001b[?25hCollecting fonttools>=4.22.0\n",
      "  Downloading fonttools-4.37.3-py3-none-any.whl (959 kB)\n",
      "\u001b[2K     \u001b[90m━━━━━━━━━━━━━━━━━━━━━━━━━━━━━━━━━━━━━━━\u001b[0m \u001b[32m960.0/960.0 kB\u001b[0m \u001b[31m4.1 MB/s\u001b[0m eta \u001b[36m0:00:00\u001b[0m00:01\u001b[0m00:01\u001b[0m\n",
      "\u001b[?25hRequirement already satisfied: numpy>=1.19 in /Users/jennatan/.pyenv/versions/bggreviews/lib/python3.9/site-packages (from matplotlib) (1.23.3)\n",
      "Requirement already satisfied: python-dateutil>=2.7 in /Users/jennatan/.pyenv/versions/bggreviews/lib/python3.9/site-packages (from matplotlib) (2.8.2)\n",
      "Collecting cycler>=0.10\n",
      "  Using cached cycler-0.11.0-py3-none-any.whl (6.4 kB)\n",
      "Requirement already satisfied: pyparsing>=2.2.1 in /Users/jennatan/.pyenv/versions/bggreviews/lib/python3.9/site-packages (from matplotlib) (3.0.9)\n",
      "Requirement already satisfied: six>=1.5 in /Users/jennatan/.pyenv/versions/bggreviews/lib/python3.9/site-packages (from python-dateutil>=2.7->matplotlib) (1.16.0)\n",
      "Installing collected packages: pillow, kiwisolver, fonttools, cycler, contourpy, matplotlib\n",
      "Successfully installed contourpy-1.0.5 cycler-0.11.0 fonttools-4.37.3 kiwisolver-1.4.4 matplotlib-3.6.0 pillow-9.2.0\n"
     ]
    }
   ],
   "source": [
    "!pip install matplotlib"
   ]
  },
  {
   "cell_type": "code",
   "execution_count": 96,
   "id": "ef10c760",
   "metadata": {},
   "outputs": [],
   "source": [
    "# imports\n",
    "import pandas as pd\n",
    "import numpy as np\n",
    "import string\n",
    "from string import digits\n",
    "from nltk.corpus import stopwords \n",
    "from nltk.tokenize import word_tokenize\n",
    "from nltk.stem import WordNetLemmatizer\n",
    "from sklearn.model_selection import train_test_split\n",
    "from sklearn.feature_extraction.text import TfidfVectorizer\n",
    "from sklearn.naive_bayes import MultinomialNB\n",
    "from sklearn.model_selection import cross_validate\n",
    "from sklearn.pipeline import make_pipeline\n",
    "import matplotlib.pyplot as plt"
   ]
  },
  {
   "cell_type": "markdown",
   "id": "7435d913",
   "metadata": {},
   "source": [
    "# Read data"
   ]
  },
  {
   "cell_type": "code",
   "execution_count": 2,
   "id": "5c9ddf4b",
   "metadata": {},
   "outputs": [
    {
     "data": {
      "text/html": [
       "<div>\n",
       "<style scoped>\n",
       "    .dataframe tbody tr th:only-of-type {\n",
       "        vertical-align: middle;\n",
       "    }\n",
       "\n",
       "    .dataframe tbody tr th {\n",
       "        vertical-align: top;\n",
       "    }\n",
       "\n",
       "    .dataframe thead th {\n",
       "        text-align: right;\n",
       "    }\n",
       "</style>\n",
       "<table border=\"1\" class=\"dataframe\">\n",
       "  <thead>\n",
       "    <tr style=\"text-align: right;\">\n",
       "      <th></th>\n",
       "      <th>Unnamed: 0.1</th>\n",
       "      <th>Unnamed: 0</th>\n",
       "      <th>user</th>\n",
       "      <th>rating</th>\n",
       "      <th>comment</th>\n",
       "      <th>ID</th>\n",
       "      <th>name</th>\n",
       "    </tr>\n",
       "  </thead>\n",
       "  <tbody>\n",
       "    <tr>\n",
       "      <th>0</th>\n",
       "      <td>4108284</td>\n",
       "      <td>4108284</td>\n",
       "      <td>PegasusGamesNYC</td>\n",
       "      <td>2.0</td>\n",
       "      <td>Played it once and didn't like it</td>\n",
       "      <td>9209</td>\n",
       "      <td>Ticket to Ride</td>\n",
       "    </tr>\n",
       "    <tr>\n",
       "      <th>1</th>\n",
       "      <td>9412682</td>\n",
       "      <td>9412682</td>\n",
       "      <td>captaincomic</td>\n",
       "      <td>4.0</td>\n",
       "      <td>Several things to dislike: Player elimination;...</td>\n",
       "      <td>24068</td>\n",
       "      <td>Shadow Hunters</td>\n",
       "    </tr>\n",
       "    <tr>\n",
       "      <th>2</th>\n",
       "      <td>3448962</td>\n",
       "      <td>3448962</td>\n",
       "      <td>jblomquist</td>\n",
       "      <td>4.0</td>\n",
       "      <td>Seems like an ok game but it doesn't really wo...</td>\n",
       "      <td>150376</td>\n",
       "      <td>Dead of Winter: A Crossroads Game</td>\n",
       "    </tr>\n",
       "  </tbody>\n",
       "</table>\n",
       "</div>"
      ],
      "text/plain": [
       "   Unnamed: 0.1  Unnamed: 0             user  rating  \\\n",
       "0       4108284     4108284  PegasusGamesNYC     2.0   \n",
       "1       9412682     9412682     captaincomic     4.0   \n",
       "2       3448962     3448962       jblomquist     4.0   \n",
       "\n",
       "                                             comment      ID  \\\n",
       "0                  Played it once and didn't like it    9209   \n",
       "1  Several things to dislike: Player elimination;...   24068   \n",
       "2  Seems like an ok game but it doesn't really wo...  150376   \n",
       "\n",
       "                                name  \n",
       "0                     Ticket to Ride  \n",
       "1                     Shadow Hunters  \n",
       "2  Dead of Winter: A Crossroads Game  "
      ]
     },
     "execution_count": 2,
     "metadata": {},
     "output_type": "execute_result"
    }
   ],
   "source": [
    "df = pd.read_csv('../data/clean_data.csv')\n",
    "df.head(3)"
   ]
  },
  {
   "cell_type": "code",
   "execution_count": 3,
   "id": "75cf58a0",
   "metadata": {},
   "outputs": [
    {
     "data": {
      "text/plain": [
       "(100000, 7)"
      ]
     },
     "execution_count": 3,
     "metadata": {},
     "output_type": "execute_result"
    }
   ],
   "source": [
    "df.shape"
   ]
  },
  {
   "cell_type": "code",
   "execution_count": 4,
   "id": "0acd1cd5",
   "metadata": {},
   "outputs": [
    {
     "data": {
      "text/html": [
       "<div>\n",
       "<style scoped>\n",
       "    .dataframe tbody tr th:only-of-type {\n",
       "        vertical-align: middle;\n",
       "    }\n",
       "\n",
       "    .dataframe tbody tr th {\n",
       "        vertical-align: top;\n",
       "    }\n",
       "\n",
       "    .dataframe thead th {\n",
       "        text-align: right;\n",
       "    }\n",
       "</style>\n",
       "<table border=\"1\" class=\"dataframe\">\n",
       "  <thead>\n",
       "    <tr style=\"text-align: right;\">\n",
       "      <th></th>\n",
       "      <th>rating</th>\n",
       "      <th>comment</th>\n",
       "    </tr>\n",
       "  </thead>\n",
       "  <tbody>\n",
       "    <tr>\n",
       "      <th>0</th>\n",
       "      <td>2.0</td>\n",
       "      <td>Played it once and didn't like it</td>\n",
       "    </tr>\n",
       "    <tr>\n",
       "      <th>1</th>\n",
       "      <td>4.0</td>\n",
       "      <td>Several things to dislike: Player elimination;...</td>\n",
       "    </tr>\n",
       "    <tr>\n",
       "      <th>2</th>\n",
       "      <td>4.0</td>\n",
       "      <td>Seems like an ok game but it doesn't really wo...</td>\n",
       "    </tr>\n",
       "    <tr>\n",
       "      <th>3</th>\n",
       "      <td>3.0</td>\n",
       "      <td>Flux and Munchkin mixed but worse. Way way way...</td>\n",
       "    </tr>\n",
       "    <tr>\n",
       "      <th>4</th>\n",
       "      <td>3.0</td>\n",
       "      <td>The game open the player to be sieged by group...</td>\n",
       "    </tr>\n",
       "  </tbody>\n",
       "</table>\n",
       "</div>"
      ],
      "text/plain": [
       "   rating                                            comment\n",
       "0     2.0                  Played it once and didn't like it\n",
       "1     4.0  Several things to dislike: Player elimination;...\n",
       "2     4.0  Seems like an ok game but it doesn't really wo...\n",
       "3     3.0  Flux and Munchkin mixed but worse. Way way way...\n",
       "4     3.0  The game open the player to be sieged by group..."
      ]
     },
     "execution_count": 4,
     "metadata": {},
     "output_type": "execute_result"
    }
   ],
   "source": [
    "# Filter df\n",
    "df = df[['rating','comment']]\n",
    "df.head()"
   ]
  },
  {
   "cell_type": "markdown",
   "id": "2ff3b352",
   "metadata": {},
   "source": [
    "# Check DF for nulls, duplicates"
   ]
  },
  {
   "cell_type": "code",
   "execution_count": 5,
   "id": "fbc53dcb",
   "metadata": {
    "scrolled": false
   },
   "outputs": [
    {
     "data": {
      "text/plain": [
       "rating     0\n",
       "comment    0\n",
       "dtype: int64"
      ]
     },
     "execution_count": 5,
     "metadata": {},
     "output_type": "execute_result"
    }
   ],
   "source": [
    "df.isnull().sum()"
   ]
  },
  {
   "cell_type": "markdown",
   "id": "74b8c99a",
   "metadata": {},
   "source": [
    "No nulls"
   ]
  },
  {
   "cell_type": "code",
   "execution_count": 6,
   "id": "5851b349",
   "metadata": {},
   "outputs": [
    {
     "data": {
      "text/html": [
       "<div>\n",
       "<style scoped>\n",
       "    .dataframe tbody tr th:only-of-type {\n",
       "        vertical-align: middle;\n",
       "    }\n",
       "\n",
       "    .dataframe tbody tr th {\n",
       "        vertical-align: top;\n",
       "    }\n",
       "\n",
       "    .dataframe thead th {\n",
       "        text-align: right;\n",
       "    }\n",
       "</style>\n",
       "<table border=\"1\" class=\"dataframe\">\n",
       "  <thead>\n",
       "    <tr style=\"text-align: right;\">\n",
       "      <th></th>\n",
       "      <th>rating</th>\n",
       "      <th>comment</th>\n",
       "    </tr>\n",
       "  </thead>\n",
       "  <tbody>\n",
       "    <tr>\n",
       "      <th>1042</th>\n",
       "      <td>3.0</td>\n",
       "      <td>I don't like trivia games.  There are certain ...</td>\n",
       "    </tr>\n",
       "    <tr>\n",
       "      <th>1256</th>\n",
       "      <td>3.0</td>\n",
       "      <td>jack</td>\n",
       "    </tr>\n",
       "    <tr>\n",
       "      <th>1925</th>\n",
       "      <td>4.0</td>\n",
       "      <td>Kids</td>\n",
       "    </tr>\n",
       "    <tr>\n",
       "      <th>1993</th>\n",
       "      <td>1.0</td>\n",
       "      <td>Beware of BGG's incorrect data on this game.</td>\n",
       "    </tr>\n",
       "    <tr>\n",
       "      <th>2404</th>\n",
       "      <td>3.0</td>\n",
       "      <td>2-6</td>\n",
       "    </tr>\n",
       "    <tr>\n",
       "      <th>...</th>\n",
       "      <td>...</td>\n",
       "      <td>...</td>\n",
       "    </tr>\n",
       "    <tr>\n",
       "      <th>99895</th>\n",
       "      <td>5.0</td>\n",
       "      <td>Will comment and rate later!</td>\n",
       "    </tr>\n",
       "    <tr>\n",
       "      <th>99949</th>\n",
       "      <td>9.0</td>\n",
       "      <td>Painted</td>\n",
       "    </tr>\n",
       "    <tr>\n",
       "      <th>99953</th>\n",
       "      <td>6.0</td>\n",
       "      <td></td>\n",
       "    </tr>\n",
       "    <tr>\n",
       "      <th>99963</th>\n",
       "      <td>8.0</td>\n",
       "      <td>Steam</td>\n",
       "    </tr>\n",
       "    <tr>\n",
       "      <th>99997</th>\n",
       "      <td>10.0</td>\n",
       "      <td>Amazing</td>\n",
       "    </tr>\n",
       "  </tbody>\n",
       "</table>\n",
       "<p>2115 rows × 2 columns</p>\n",
       "</div>"
      ],
      "text/plain": [
       "       rating                                            comment\n",
       "1042      3.0  I don't like trivia games.  There are certain ...\n",
       "1256      3.0                                               jack\n",
       "1925      4.0                                               Kids\n",
       "1993      1.0       Beware of BGG's incorrect data on this game.\n",
       "2404      3.0                                                2-6\n",
       "...       ...                                                ...\n",
       "99895     5.0                       Will comment and rate later!\n",
       "99949     9.0                                            Painted\n",
       "99953     6.0                                                   \n",
       "99963     8.0                                              Steam\n",
       "99997    10.0                                            Amazing\n",
       "\n",
       "[2115 rows x 2 columns]"
      ]
     },
     "execution_count": 6,
     "metadata": {},
     "output_type": "execute_result"
    }
   ],
   "source": [
    "df[df.duplicated()]"
   ]
  },
  {
   "cell_type": "code",
   "execution_count": 7,
   "id": "1b535db8",
   "metadata": {},
   "outputs": [],
   "source": [
    "df = df.drop_duplicates()"
   ]
  },
  {
   "cell_type": "code",
   "execution_count": 8,
   "id": "65007ab4",
   "metadata": {},
   "outputs": [
    {
     "data": {
      "text/plain": [
       "(97885, 2)"
      ]
     },
     "execution_count": 8,
     "metadata": {},
     "output_type": "execute_result"
    }
   ],
   "source": [
    "df.shape"
   ]
  },
  {
   "cell_type": "markdown",
   "id": "4b0f3102",
   "metadata": {},
   "source": [
    "DF reduced by 2115 rows from duplicates"
   ]
  },
  {
   "cell_type": "code",
   "execution_count": 9,
   "id": "20cd57a9",
   "metadata": {},
   "outputs": [
    {
     "data": {
      "text/plain": [
       "4.0     24409\n",
       "8.0     13559\n",
       "3.0     12968\n",
       "7.0     11863\n",
       "6.0     10485\n",
       "2.0      7353\n",
       "9.0      5286\n",
       "5.0      4354\n",
       "1.0      4114\n",
       "10.0     3492\n",
       "0.0         2\n",
       "Name: rating, dtype: int64"
      ]
     },
     "execution_count": 9,
     "metadata": {},
     "output_type": "execute_result"
    }
   ],
   "source": [
    "df['rating'].value_counts()"
   ]
  },
  {
   "cell_type": "markdown",
   "id": "dbee778d",
   "metadata": {},
   "source": [
    "Ratings are clean"
   ]
  },
  {
   "cell_type": "markdown",
   "id": "d80509e8",
   "metadata": {},
   "source": [
    "# Text preprocesing"
   ]
  },
  {
   "cell_type": "code",
   "execution_count": 109,
   "id": "51af6477",
   "metadata": {},
   "outputs": [],
   "source": [
    "# function to process text\n",
    "stop_words = set(stopwords.words(\"english\")) \n",
    "lemmatizer = WordNetLemmatizer()\n",
    "\n",
    "def clean_text(text):\n",
    "    text = text.lower() # change to lower case\n",
    "    text = text.rstrip() # remove right white space\n",
    "    text = text.lstrip() # remove left white space\n",
    "    text = text.translate(str.maketrans('', '', string.punctuation)) # remove puncutation\n",
    "    text = text.translate(str.maketrans('', '', digits)) # remove numbers\n",
    "    text = (text.encode('ascii', errors='ignore')).decode() # remove non english characters\n",
    "    text = [lemmatizer.lemmatize(token) for token in text.split(\" \")] # split sentence into tokens and lemmatize\n",
    "    lemmatized = [lemmatizer.lemmatize(word, pos = 'n') for word in text] # Lemmatize\n",
    "    lemmatized = [lemmatizer.lemmatize(word, pos = 'v') for word in lemmatized] # Lemmatize\n",
    "    lemmatized = [lemmatizer.lemmatize(word, pos = 'a') for word in lemmatized] # Lemmatize\n",
    "    lemmatized = [lemmatizer.lemmatize(word, pos = 'r') for word in lemmatized] # Lemmatize\n",
    "    words_only = [word for word in lemmatized if word.isalpha()] # remove non alpha chars, incl. punctuation\n",
    "    text = [word for word in words_only if not word in stop_words] # remove stop words\n",
    "    text = \" \".join(text) # join words back into a sentence\n",
    "    return text\n"
   ]
  },
  {
   "cell_type": "code",
   "execution_count": 110,
   "id": "533a7367",
   "metadata": {
    "scrolled": true
   },
   "outputs": [],
   "source": [
    "df['comment_pp'] = df['comment'].apply(lambda x: clean_text(x))"
   ]
  },
  {
   "cell_type": "code",
   "execution_count": 111,
   "id": "5f3cf8c6",
   "metadata": {
    "scrolled": true
   },
   "outputs": [
    {
     "data": {
      "text/html": [
       "<div>\n",
       "<style scoped>\n",
       "    .dataframe tbody tr th:only-of-type {\n",
       "        vertical-align: middle;\n",
       "    }\n",
       "\n",
       "    .dataframe tbody tr th {\n",
       "        vertical-align: top;\n",
       "    }\n",
       "\n",
       "    .dataframe thead th {\n",
       "        text-align: right;\n",
       "    }\n",
       "</style>\n",
       "<table border=\"1\" class=\"dataframe\">\n",
       "  <thead>\n",
       "    <tr style=\"text-align: right;\">\n",
       "      <th></th>\n",
       "      <th>rating</th>\n",
       "      <th>comment</th>\n",
       "      <th>comment_pp</th>\n",
       "    </tr>\n",
       "  </thead>\n",
       "  <tbody>\n",
       "    <tr>\n",
       "      <th>40284</th>\n",
       "      <td>2.0</td>\n",
       "      <td>You feel like being played. Doesn't feel like ...</td>\n",
       "      <td>feel like play doesnt feel like make meaningfu...</td>\n",
       "    </tr>\n",
       "    <tr>\n",
       "      <th>40448</th>\n",
       "      <td>4.0</td>\n",
       "      <td>I was going to give this a 4, then I saw that ...</td>\n",
       "      <td>wa go give saw munchikin quest wa mean insult ...</td>\n",
       "    </tr>\n",
       "    <tr>\n",
       "      <th>56249</th>\n",
       "      <td>8.0</td>\n",
       "      <td>My 6 year old's new favourite game!</td>\n",
       "      <td>year old new favourite game</td>\n",
       "    </tr>\n",
       "  </tbody>\n",
       "</table>\n",
       "</div>"
      ],
      "text/plain": [
       "       rating                                            comment  \\\n",
       "40284     2.0  You feel like being played. Doesn't feel like ...   \n",
       "40448     4.0  I was going to give this a 4, then I saw that ...   \n",
       "56249     8.0               My 6 year old's new favourite game!    \n",
       "\n",
       "                                              comment_pp  \n",
       "40284  feel like play doesnt feel like make meaningfu...  \n",
       "40448  wa go give saw munchikin quest wa mean insult ...  \n",
       "56249                        year old new favourite game  "
      ]
     },
     "execution_count": 111,
     "metadata": {},
     "output_type": "execute_result"
    }
   ],
   "source": [
    "df.sample(3)"
   ]
  },
  {
   "cell_type": "code",
   "execution_count": 112,
   "id": "56daace1",
   "metadata": {},
   "outputs": [
    {
     "data": {
      "text/plain": [
       "(97885, 3)"
      ]
     },
     "execution_count": 112,
     "metadata": {},
     "output_type": "execute_result"
    }
   ],
   "source": [
    "df.shape"
   ]
  },
  {
   "cell_type": "markdown",
   "id": "6c2646b7",
   "metadata": {},
   "source": [
    "# Reduce categories of y into three"
   ]
  },
  {
   "cell_type": "code",
   "execution_count": 113,
   "id": "769351a3",
   "metadata": {
    "scrolled": false
   },
   "outputs": [],
   "source": [
    "labels1 = ['Bad','Average','High']\n",
    "df['y'] = pd.qcut(df['rating'],q=3, labels=labels1)"
   ]
  },
  {
   "cell_type": "code",
   "execution_count": 114,
   "id": "40193bae",
   "metadata": {
    "scrolled": true
   },
   "outputs": [
    {
     "data": {
      "text/html": [
       "<div>\n",
       "<style scoped>\n",
       "    .dataframe tbody tr th:only-of-type {\n",
       "        vertical-align: middle;\n",
       "    }\n",
       "\n",
       "    .dataframe tbody tr th {\n",
       "        vertical-align: top;\n",
       "    }\n",
       "\n",
       "    .dataframe thead th {\n",
       "        text-align: right;\n",
       "    }\n",
       "</style>\n",
       "<table border=\"1\" class=\"dataframe\">\n",
       "  <thead>\n",
       "    <tr style=\"text-align: right;\">\n",
       "      <th></th>\n",
       "      <th>rating</th>\n",
       "      <th>comment</th>\n",
       "      <th>comment_pp</th>\n",
       "      <th>y</th>\n",
       "    </tr>\n",
       "  </thead>\n",
       "  <tbody>\n",
       "    <tr>\n",
       "      <th>65501</th>\n",
       "      <td>7.0</td>\n",
       "      <td>Cool theme, neat mechanics. Probably not balan...</td>\n",
       "      <td>cool theme neat mechanic probably balance anyt...</td>\n",
       "      <td>Average</td>\n",
       "    </tr>\n",
       "    <tr>\n",
       "      <th>9997</th>\n",
       "      <td>1.0</td>\n",
       "      <td>Euro</td>\n",
       "      <td>euro</td>\n",
       "      <td>Bad</td>\n",
       "    </tr>\n",
       "    <tr>\n",
       "      <th>46613</th>\n",
       "      <td>4.0</td>\n",
       "      <td>Don't understand the hype. Just like San Juan....</td>\n",
       "      <td>dont understand hype like san juan space rathe...</td>\n",
       "      <td>Bad</td>\n",
       "    </tr>\n",
       "  </tbody>\n",
       "</table>\n",
       "</div>"
      ],
      "text/plain": [
       "       rating                                            comment  \\\n",
       "65501     7.0  Cool theme, neat mechanics. Probably not balan...   \n",
       "9997      1.0                                               Euro   \n",
       "46613     4.0  Don't understand the hype. Just like San Juan....   \n",
       "\n",
       "                                              comment_pp        y  \n",
       "65501  cool theme neat mechanic probably balance anyt...  Average  \n",
       "9997                                                euro      Bad  \n",
       "46613  dont understand hype like san juan space rathe...      Bad  "
      ]
     },
     "execution_count": 114,
     "metadata": {},
     "output_type": "execute_result"
    }
   ],
   "source": [
    "df.sample(3)"
   ]
  },
  {
   "cell_type": "code",
   "execution_count": 156,
   "id": "b332dca9",
   "metadata": {
    "scrolled": true
   },
   "outputs": [
    {
     "data": {
      "text/plain": [
       "Bad        0.499014\n",
       "Average    0.272789\n",
       "High       0.228196\n",
       "Name: y, dtype: float64"
      ]
     },
     "execution_count": 156,
     "metadata": {},
     "output_type": "execute_result"
    }
   ],
   "source": [
    "df.y.value_counts()/len(df)"
   ]
  },
  {
   "cell_type": "markdown",
   "id": "ac43d6ac",
   "metadata": {},
   "source": [
    "# Model"
   ]
  },
  {
   "cell_type": "code",
   "execution_count": 116,
   "id": "6a839798",
   "metadata": {},
   "outputs": [],
   "source": [
    "y = df['y']\n",
    "X = df['comment_pp']"
   ]
  },
  {
   "cell_type": "code",
   "execution_count": 118,
   "id": "1a80b4bc",
   "metadata": {},
   "outputs": [],
   "source": [
    "X_train, X_test, y_train, y_test = train_test_split(X, y, test_size=0.2, random_state=1)"
   ]
  },
  {
   "cell_type": "code",
   "execution_count": 119,
   "id": "9810a7f7",
   "metadata": {
    "scrolled": true
   },
   "outputs": [
    {
     "data": {
      "text/plain": [
       "78308"
      ]
     },
     "execution_count": 119,
     "metadata": {},
     "output_type": "execute_result"
    }
   ],
   "source": [
    "X_train.size"
   ]
  },
  {
   "cell_type": "code",
   "execution_count": 120,
   "id": "ec23dfe3",
   "metadata": {},
   "outputs": [
    {
     "data": {
      "text/plain": [
       "46268    kwanchais redesign dont know feel yet may go l...\n",
       "12684                   rather play resistance rather game\n",
       "59004    seem best interaction game casual gamers even ...\n",
       "Name: comment_pp, dtype: object"
      ]
     },
     "execution_count": 120,
     "metadata": {},
     "output_type": "execute_result"
    }
   ],
   "source": [
    "X_train.sample(3)"
   ]
  },
  {
   "cell_type": "markdown",
   "id": "e818d996",
   "metadata": {},
   "source": [
    "## Vectorize words"
   ]
  },
  {
   "cell_type": "code",
   "execution_count": 24,
   "id": "2eedc279",
   "metadata": {},
   "outputs": [],
   "source": [
    "# vectorize words\n",
    "vectorizer = TfidfVectorizer(ngram_range=(1,1))"
   ]
  },
  {
   "cell_type": "code",
   "execution_count": 25,
   "id": "7fa39dcb",
   "metadata": {},
   "outputs": [],
   "source": [
    "train_vectors = pd.DataFrame(vectorizer.fit_transform(X_train).toarray(),\n",
    "                 columns = vectorizer.get_feature_names_out())"
   ]
  },
  {
   "cell_type": "code",
   "execution_count": 26,
   "id": "28ff652f",
   "metadata": {
    "scrolled": true
   },
   "outputs": [
    {
     "data": {
      "text/html": [
       "<div>\n",
       "<style scoped>\n",
       "    .dataframe tbody tr th:only-of-type {\n",
       "        vertical-align: middle;\n",
       "    }\n",
       "\n",
       "    .dataframe tbody tr th {\n",
       "        vertical-align: top;\n",
       "    }\n",
       "\n",
       "    .dataframe thead th {\n",
       "        text-align: right;\n",
       "    }\n",
       "</style>\n",
       "<table border=\"1\" class=\"dataframe\">\n",
       "  <thead>\n",
       "    <tr style=\"text-align: right;\">\n",
       "      <th></th>\n",
       "      <th>aa</th>\n",
       "      <th>aaaaa</th>\n",
       "      <th>aaaaaaaaaaaaaaaaarrrrrrrrrgggggggggggggghhhhhhhhhhhhhhhhhhhhhh</th>\n",
       "      <th>aaaaaaaaaaaarrrrrrrrrrrrggggggggggggggghhhhhhhhhhhhhhhh</th>\n",
       "      <th>aaaaaaah</th>\n",
       "      <th>aaaaaaand</th>\n",
       "      <th>aaaaaages</th>\n",
       "      <th>aaaaaagggghhhhhhhh</th>\n",
       "      <th>aaaaaall</th>\n",
       "      <th>aaaaaand</th>\n",
       "      <th>...</th>\n",
       "      <th>zzzzz</th>\n",
       "      <th>zzzzzz</th>\n",
       "      <th>zzzzzzz</th>\n",
       "      <th>zzzzzzzz</th>\n",
       "      <th>zzzzzzzzz</th>\n",
       "      <th>zzzzzzzzzz</th>\n",
       "      <th>zzzzzzzzzzzzz</th>\n",
       "      <th>zzzzzzzzzzzzzzzzzzzzzz</th>\n",
       "      <th>zzzzzzzzzzzzzzzzzzzzzzz</th>\n",
       "      <th>zzzzzzzzzzzzzzzzzzzzzzzzz</th>\n",
       "    </tr>\n",
       "  </thead>\n",
       "  <tbody>\n",
       "    <tr>\n",
       "      <th>0</th>\n",
       "      <td>0.0</td>\n",
       "      <td>0.0</td>\n",
       "      <td>0.0</td>\n",
       "      <td>0.0</td>\n",
       "      <td>0.0</td>\n",
       "      <td>0.0</td>\n",
       "      <td>0.0</td>\n",
       "      <td>0.0</td>\n",
       "      <td>0.0</td>\n",
       "      <td>0.0</td>\n",
       "      <td>...</td>\n",
       "      <td>0.0</td>\n",
       "      <td>0.0</td>\n",
       "      <td>0.0</td>\n",
       "      <td>0.0</td>\n",
       "      <td>0.0</td>\n",
       "      <td>0.0</td>\n",
       "      <td>0.0</td>\n",
       "      <td>0.0</td>\n",
       "      <td>0.0</td>\n",
       "      <td>0.0</td>\n",
       "    </tr>\n",
       "    <tr>\n",
       "      <th>1</th>\n",
       "      <td>0.0</td>\n",
       "      <td>0.0</td>\n",
       "      <td>0.0</td>\n",
       "      <td>0.0</td>\n",
       "      <td>0.0</td>\n",
       "      <td>0.0</td>\n",
       "      <td>0.0</td>\n",
       "      <td>0.0</td>\n",
       "      <td>0.0</td>\n",
       "      <td>0.0</td>\n",
       "      <td>...</td>\n",
       "      <td>0.0</td>\n",
       "      <td>0.0</td>\n",
       "      <td>0.0</td>\n",
       "      <td>0.0</td>\n",
       "      <td>0.0</td>\n",
       "      <td>0.0</td>\n",
       "      <td>0.0</td>\n",
       "      <td>0.0</td>\n",
       "      <td>0.0</td>\n",
       "      <td>0.0</td>\n",
       "    </tr>\n",
       "    <tr>\n",
       "      <th>2</th>\n",
       "      <td>0.0</td>\n",
       "      <td>0.0</td>\n",
       "      <td>0.0</td>\n",
       "      <td>0.0</td>\n",
       "      <td>0.0</td>\n",
       "      <td>0.0</td>\n",
       "      <td>0.0</td>\n",
       "      <td>0.0</td>\n",
       "      <td>0.0</td>\n",
       "      <td>0.0</td>\n",
       "      <td>...</td>\n",
       "      <td>0.0</td>\n",
       "      <td>0.0</td>\n",
       "      <td>0.0</td>\n",
       "      <td>0.0</td>\n",
       "      <td>0.0</td>\n",
       "      <td>0.0</td>\n",
       "      <td>0.0</td>\n",
       "      <td>0.0</td>\n",
       "      <td>0.0</td>\n",
       "      <td>0.0</td>\n",
       "    </tr>\n",
       "    <tr>\n",
       "      <th>3</th>\n",
       "      <td>0.0</td>\n",
       "      <td>0.0</td>\n",
       "      <td>0.0</td>\n",
       "      <td>0.0</td>\n",
       "      <td>0.0</td>\n",
       "      <td>0.0</td>\n",
       "      <td>0.0</td>\n",
       "      <td>0.0</td>\n",
       "      <td>0.0</td>\n",
       "      <td>0.0</td>\n",
       "      <td>...</td>\n",
       "      <td>0.0</td>\n",
       "      <td>0.0</td>\n",
       "      <td>0.0</td>\n",
       "      <td>0.0</td>\n",
       "      <td>0.0</td>\n",
       "      <td>0.0</td>\n",
       "      <td>0.0</td>\n",
       "      <td>0.0</td>\n",
       "      <td>0.0</td>\n",
       "      <td>0.0</td>\n",
       "    </tr>\n",
       "    <tr>\n",
       "      <th>4</th>\n",
       "      <td>0.0</td>\n",
       "      <td>0.0</td>\n",
       "      <td>0.0</td>\n",
       "      <td>0.0</td>\n",
       "      <td>0.0</td>\n",
       "      <td>0.0</td>\n",
       "      <td>0.0</td>\n",
       "      <td>0.0</td>\n",
       "      <td>0.0</td>\n",
       "      <td>0.0</td>\n",
       "      <td>...</td>\n",
       "      <td>0.0</td>\n",
       "      <td>0.0</td>\n",
       "      <td>0.0</td>\n",
       "      <td>0.0</td>\n",
       "      <td>0.0</td>\n",
       "      <td>0.0</td>\n",
       "      <td>0.0</td>\n",
       "      <td>0.0</td>\n",
       "      <td>0.0</td>\n",
       "      <td>0.0</td>\n",
       "    </tr>\n",
       "    <tr>\n",
       "      <th>...</th>\n",
       "      <td>...</td>\n",
       "      <td>...</td>\n",
       "      <td>...</td>\n",
       "      <td>...</td>\n",
       "      <td>...</td>\n",
       "      <td>...</td>\n",
       "      <td>...</td>\n",
       "      <td>...</td>\n",
       "      <td>...</td>\n",
       "      <td>...</td>\n",
       "      <td>...</td>\n",
       "      <td>...</td>\n",
       "      <td>...</td>\n",
       "      <td>...</td>\n",
       "      <td>...</td>\n",
       "      <td>...</td>\n",
       "      <td>...</td>\n",
       "      <td>...</td>\n",
       "      <td>...</td>\n",
       "      <td>...</td>\n",
       "      <td>...</td>\n",
       "    </tr>\n",
       "    <tr>\n",
       "      <th>75927</th>\n",
       "      <td>0.0</td>\n",
       "      <td>0.0</td>\n",
       "      <td>0.0</td>\n",
       "      <td>0.0</td>\n",
       "      <td>0.0</td>\n",
       "      <td>0.0</td>\n",
       "      <td>0.0</td>\n",
       "      <td>0.0</td>\n",
       "      <td>0.0</td>\n",
       "      <td>0.0</td>\n",
       "      <td>...</td>\n",
       "      <td>0.0</td>\n",
       "      <td>0.0</td>\n",
       "      <td>0.0</td>\n",
       "      <td>0.0</td>\n",
       "      <td>0.0</td>\n",
       "      <td>0.0</td>\n",
       "      <td>0.0</td>\n",
       "      <td>0.0</td>\n",
       "      <td>0.0</td>\n",
       "      <td>0.0</td>\n",
       "    </tr>\n",
       "    <tr>\n",
       "      <th>75928</th>\n",
       "      <td>0.0</td>\n",
       "      <td>0.0</td>\n",
       "      <td>0.0</td>\n",
       "      <td>0.0</td>\n",
       "      <td>0.0</td>\n",
       "      <td>0.0</td>\n",
       "      <td>0.0</td>\n",
       "      <td>0.0</td>\n",
       "      <td>0.0</td>\n",
       "      <td>0.0</td>\n",
       "      <td>...</td>\n",
       "      <td>0.0</td>\n",
       "      <td>0.0</td>\n",
       "      <td>0.0</td>\n",
       "      <td>0.0</td>\n",
       "      <td>0.0</td>\n",
       "      <td>0.0</td>\n",
       "      <td>0.0</td>\n",
       "      <td>0.0</td>\n",
       "      <td>0.0</td>\n",
       "      <td>0.0</td>\n",
       "    </tr>\n",
       "    <tr>\n",
       "      <th>75929</th>\n",
       "      <td>0.0</td>\n",
       "      <td>0.0</td>\n",
       "      <td>0.0</td>\n",
       "      <td>0.0</td>\n",
       "      <td>0.0</td>\n",
       "      <td>0.0</td>\n",
       "      <td>0.0</td>\n",
       "      <td>0.0</td>\n",
       "      <td>0.0</td>\n",
       "      <td>0.0</td>\n",
       "      <td>...</td>\n",
       "      <td>0.0</td>\n",
       "      <td>0.0</td>\n",
       "      <td>0.0</td>\n",
       "      <td>0.0</td>\n",
       "      <td>0.0</td>\n",
       "      <td>0.0</td>\n",
       "      <td>0.0</td>\n",
       "      <td>0.0</td>\n",
       "      <td>0.0</td>\n",
       "      <td>0.0</td>\n",
       "    </tr>\n",
       "    <tr>\n",
       "      <th>75930</th>\n",
       "      <td>0.0</td>\n",
       "      <td>0.0</td>\n",
       "      <td>0.0</td>\n",
       "      <td>0.0</td>\n",
       "      <td>0.0</td>\n",
       "      <td>0.0</td>\n",
       "      <td>0.0</td>\n",
       "      <td>0.0</td>\n",
       "      <td>0.0</td>\n",
       "      <td>0.0</td>\n",
       "      <td>...</td>\n",
       "      <td>0.0</td>\n",
       "      <td>0.0</td>\n",
       "      <td>0.0</td>\n",
       "      <td>0.0</td>\n",
       "      <td>0.0</td>\n",
       "      <td>0.0</td>\n",
       "      <td>0.0</td>\n",
       "      <td>0.0</td>\n",
       "      <td>0.0</td>\n",
       "      <td>0.0</td>\n",
       "    </tr>\n",
       "    <tr>\n",
       "      <th>75931</th>\n",
       "      <td>0.0</td>\n",
       "      <td>0.0</td>\n",
       "      <td>0.0</td>\n",
       "      <td>0.0</td>\n",
       "      <td>0.0</td>\n",
       "      <td>0.0</td>\n",
       "      <td>0.0</td>\n",
       "      <td>0.0</td>\n",
       "      <td>0.0</td>\n",
       "      <td>0.0</td>\n",
       "      <td>...</td>\n",
       "      <td>0.0</td>\n",
       "      <td>0.0</td>\n",
       "      <td>0.0</td>\n",
       "      <td>0.0</td>\n",
       "      <td>0.0</td>\n",
       "      <td>0.0</td>\n",
       "      <td>0.0</td>\n",
       "      <td>0.0</td>\n",
       "      <td>0.0</td>\n",
       "      <td>0.0</td>\n",
       "    </tr>\n",
       "  </tbody>\n",
       "</table>\n",
       "<p>75932 rows × 44416 columns</p>\n",
       "</div>"
      ],
      "text/plain": [
       "        aa  aaaaa  \\\n",
       "0      0.0    0.0   \n",
       "1      0.0    0.0   \n",
       "2      0.0    0.0   \n",
       "3      0.0    0.0   \n",
       "4      0.0    0.0   \n",
       "...    ...    ...   \n",
       "75927  0.0    0.0   \n",
       "75928  0.0    0.0   \n",
       "75929  0.0    0.0   \n",
       "75930  0.0    0.0   \n",
       "75931  0.0    0.0   \n",
       "\n",
       "       aaaaaaaaaaaaaaaaarrrrrrrrrgggggggggggggghhhhhhhhhhhhhhhhhhhhhh  \\\n",
       "0                                                    0.0                \n",
       "1                                                    0.0                \n",
       "2                                                    0.0                \n",
       "3                                                    0.0                \n",
       "4                                                    0.0                \n",
       "...                                                  ...                \n",
       "75927                                                0.0                \n",
       "75928                                                0.0                \n",
       "75929                                                0.0                \n",
       "75930                                                0.0                \n",
       "75931                                                0.0                \n",
       "\n",
       "       aaaaaaaaaaaarrrrrrrrrrrrggggggggggggggghhhhhhhhhhhhhhhh  aaaaaaah  \\\n",
       "0                                                    0.0             0.0   \n",
       "1                                                    0.0             0.0   \n",
       "2                                                    0.0             0.0   \n",
       "3                                                    0.0             0.0   \n",
       "4                                                    0.0             0.0   \n",
       "...                                                  ...             ...   \n",
       "75927                                                0.0             0.0   \n",
       "75928                                                0.0             0.0   \n",
       "75929                                                0.0             0.0   \n",
       "75930                                                0.0             0.0   \n",
       "75931                                                0.0             0.0   \n",
       "\n",
       "       aaaaaaand  aaaaaages  aaaaaagggghhhhhhhh  aaaaaall  aaaaaand  ...  \\\n",
       "0            0.0        0.0                 0.0       0.0       0.0  ...   \n",
       "1            0.0        0.0                 0.0       0.0       0.0  ...   \n",
       "2            0.0        0.0                 0.0       0.0       0.0  ...   \n",
       "3            0.0        0.0                 0.0       0.0       0.0  ...   \n",
       "4            0.0        0.0                 0.0       0.0       0.0  ...   \n",
       "...          ...        ...                 ...       ...       ...  ...   \n",
       "75927        0.0        0.0                 0.0       0.0       0.0  ...   \n",
       "75928        0.0        0.0                 0.0       0.0       0.0  ...   \n",
       "75929        0.0        0.0                 0.0       0.0       0.0  ...   \n",
       "75930        0.0        0.0                 0.0       0.0       0.0  ...   \n",
       "75931        0.0        0.0                 0.0       0.0       0.0  ...   \n",
       "\n",
       "       zzzzz  zzzzzz  zzzzzzz  zzzzzzzz  zzzzzzzzz  zzzzzzzzzz  zzzzzzzzzzzzz  \\\n",
       "0        0.0     0.0      0.0       0.0        0.0         0.0            0.0   \n",
       "1        0.0     0.0      0.0       0.0        0.0         0.0            0.0   \n",
       "2        0.0     0.0      0.0       0.0        0.0         0.0            0.0   \n",
       "3        0.0     0.0      0.0       0.0        0.0         0.0            0.0   \n",
       "4        0.0     0.0      0.0       0.0        0.0         0.0            0.0   \n",
       "...      ...     ...      ...       ...        ...         ...            ...   \n",
       "75927    0.0     0.0      0.0       0.0        0.0         0.0            0.0   \n",
       "75928    0.0     0.0      0.0       0.0        0.0         0.0            0.0   \n",
       "75929    0.0     0.0      0.0       0.0        0.0         0.0            0.0   \n",
       "75930    0.0     0.0      0.0       0.0        0.0         0.0            0.0   \n",
       "75931    0.0     0.0      0.0       0.0        0.0         0.0            0.0   \n",
       "\n",
       "       zzzzzzzzzzzzzzzzzzzzzz  zzzzzzzzzzzzzzzzzzzzzzz  \\\n",
       "0                         0.0                      0.0   \n",
       "1                         0.0                      0.0   \n",
       "2                         0.0                      0.0   \n",
       "3                         0.0                      0.0   \n",
       "4                         0.0                      0.0   \n",
       "...                       ...                      ...   \n",
       "75927                     0.0                      0.0   \n",
       "75928                     0.0                      0.0   \n",
       "75929                     0.0                      0.0   \n",
       "75930                     0.0                      0.0   \n",
       "75931                     0.0                      0.0   \n",
       "\n",
       "       zzzzzzzzzzzzzzzzzzzzzzzzz  \n",
       "0                            0.0  \n",
       "1                            0.0  \n",
       "2                            0.0  \n",
       "3                            0.0  \n",
       "4                            0.0  \n",
       "...                          ...  \n",
       "75927                        0.0  \n",
       "75928                        0.0  \n",
       "75929                        0.0  \n",
       "75930                        0.0  \n",
       "75931                        0.0  \n",
       "\n",
       "[75932 rows x 44416 columns]"
      ]
     },
     "execution_count": 26,
     "metadata": {},
     "output_type": "execute_result"
    }
   ],
   "source": [
    "train_vectors"
   ]
  },
  {
   "cell_type": "markdown",
   "id": "da9f1324",
   "metadata": {},
   "source": [
    "## Model with multinomial NB"
   ]
  },
  {
   "cell_type": "code",
   "execution_count": 28,
   "id": "7a276ad9",
   "metadata": {},
   "outputs": [
    {
     "data": {
      "text/html": [
       "<style>#sk-container-id-1 {color: black;background-color: white;}#sk-container-id-1 pre{padding: 0;}#sk-container-id-1 div.sk-toggleable {background-color: white;}#sk-container-id-1 label.sk-toggleable__label {cursor: pointer;display: block;width: 100%;margin-bottom: 0;padding: 0.3em;box-sizing: border-box;text-align: center;}#sk-container-id-1 label.sk-toggleable__label-arrow:before {content: \"▸\";float: left;margin-right: 0.25em;color: #696969;}#sk-container-id-1 label.sk-toggleable__label-arrow:hover:before {color: black;}#sk-container-id-1 div.sk-estimator:hover label.sk-toggleable__label-arrow:before {color: black;}#sk-container-id-1 div.sk-toggleable__content {max-height: 0;max-width: 0;overflow: hidden;text-align: left;background-color: #f0f8ff;}#sk-container-id-1 div.sk-toggleable__content pre {margin: 0.2em;color: black;border-radius: 0.25em;background-color: #f0f8ff;}#sk-container-id-1 input.sk-toggleable__control:checked~div.sk-toggleable__content {max-height: 200px;max-width: 100%;overflow: auto;}#sk-container-id-1 input.sk-toggleable__control:checked~label.sk-toggleable__label-arrow:before {content: \"▾\";}#sk-container-id-1 div.sk-estimator input.sk-toggleable__control:checked~label.sk-toggleable__label {background-color: #d4ebff;}#sk-container-id-1 div.sk-label input.sk-toggleable__control:checked~label.sk-toggleable__label {background-color: #d4ebff;}#sk-container-id-1 input.sk-hidden--visually {border: 0;clip: rect(1px 1px 1px 1px);clip: rect(1px, 1px, 1px, 1px);height: 1px;margin: -1px;overflow: hidden;padding: 0;position: absolute;width: 1px;}#sk-container-id-1 div.sk-estimator {font-family: monospace;background-color: #f0f8ff;border: 1px dotted black;border-radius: 0.25em;box-sizing: border-box;margin-bottom: 0.5em;}#sk-container-id-1 div.sk-estimator:hover {background-color: #d4ebff;}#sk-container-id-1 div.sk-parallel-item::after {content: \"\";width: 100%;border-bottom: 1px solid gray;flex-grow: 1;}#sk-container-id-1 div.sk-label:hover label.sk-toggleable__label {background-color: #d4ebff;}#sk-container-id-1 div.sk-serial::before {content: \"\";position: absolute;border-left: 1px solid gray;box-sizing: border-box;top: 0;bottom: 0;left: 50%;z-index: 0;}#sk-container-id-1 div.sk-serial {display: flex;flex-direction: column;align-items: center;background-color: white;padding-right: 0.2em;padding-left: 0.2em;position: relative;}#sk-container-id-1 div.sk-item {position: relative;z-index: 1;}#sk-container-id-1 div.sk-parallel {display: flex;align-items: stretch;justify-content: center;background-color: white;position: relative;}#sk-container-id-1 div.sk-item::before, #sk-container-id-1 div.sk-parallel-item::before {content: \"\";position: absolute;border-left: 1px solid gray;box-sizing: border-box;top: 0;bottom: 0;left: 50%;z-index: -1;}#sk-container-id-1 div.sk-parallel-item {display: flex;flex-direction: column;z-index: 1;position: relative;background-color: white;}#sk-container-id-1 div.sk-parallel-item:first-child::after {align-self: flex-end;width: 50%;}#sk-container-id-1 div.sk-parallel-item:last-child::after {align-self: flex-start;width: 50%;}#sk-container-id-1 div.sk-parallel-item:only-child::after {width: 0;}#sk-container-id-1 div.sk-dashed-wrapped {border: 1px dashed gray;margin: 0 0.4em 0.5em 0.4em;box-sizing: border-box;padding-bottom: 0.4em;background-color: white;}#sk-container-id-1 div.sk-label label {font-family: monospace;font-weight: bold;display: inline-block;line-height: 1.2em;}#sk-container-id-1 div.sk-label-container {text-align: center;}#sk-container-id-1 div.sk-container {/* jupyter's `normalize.less` sets `[hidden] { display: none; }` but bootstrap.min.css set `[hidden] { display: none !important; }` so we also need the `!important` here to be able to override the default hidden behavior on the sphinx rendered scikit-learn.org. See: https://github.com/scikit-learn/scikit-learn/issues/21755 */display: inline-block !important;position: relative;}#sk-container-id-1 div.sk-text-repr-fallback {display: none;}</style><div id=\"sk-container-id-1\" class=\"sk-top-container\"><div class=\"sk-text-repr-fallback\"><pre>MultinomialNB(alpha=0.05)</pre><b>In a Jupyter environment, please rerun this cell to show the HTML representation or trust the notebook. <br />On GitHub, the HTML representation is unable to render, please try loading this page with nbviewer.org.</b></div><div class=\"sk-container\" hidden><div class=\"sk-item\"><div class=\"sk-estimator sk-toggleable\"><input class=\"sk-toggleable__control sk-hidden--visually\" id=\"sk-estimator-id-1\" type=\"checkbox\" checked><label for=\"sk-estimator-id-1\" class=\"sk-toggleable__label sk-toggleable__label-arrow\">MultinomialNB</label><div class=\"sk-toggleable__content\"><pre>MultinomialNB(alpha=0.05)</pre></div></div></div></div></div>"
      ],
      "text/plain": [
       "MultinomialNB(alpha=0.05)"
      ]
     },
     "execution_count": 28,
     "metadata": {},
     "output_type": "execute_result"
    }
   ],
   "source": [
    "model = MultinomialNB(alpha=0.05)\n",
    "model.fit(train_vectors, y_train)"
   ]
  },
  {
   "cell_type": "code",
   "execution_count": 29,
   "id": "f882dc47",
   "metadata": {},
   "outputs": [
    {
     "data": {
      "text/plain": [
       "array(['Average', 'Bad', 'High'], dtype='<U7')"
      ]
     },
     "execution_count": 29,
     "metadata": {},
     "output_type": "execute_result"
    }
   ],
   "source": [
    "model.classes_"
   ]
  },
  {
   "cell_type": "code",
   "execution_count": 30,
   "id": "edb8b44c",
   "metadata": {},
   "outputs": [
    {
     "data": {
      "text/plain": [
       "0.7369356792919981"
      ]
     },
     "execution_count": 30,
     "metadata": {},
     "output_type": "execute_result"
    }
   ],
   "source": [
    "model.score(train_vectors,y_train)"
   ]
  },
  {
   "cell_type": "code",
   "execution_count": 31,
   "id": "00f27283",
   "metadata": {},
   "outputs": [
    {
     "data": {
      "text/plain": [
       "0.5926224541113255"
      ]
     },
     "execution_count": 31,
     "metadata": {},
     "output_type": "execute_result"
    }
   ],
   "source": [
    "# check metrics\n",
    "cv_results = cross_validate(model, train_vectors, y_train, cv = 5, scoring = [\"accuracy\"])\n",
    "cv_results['test_accuracy'].mean()"
   ]
  },
  {
   "cell_type": "markdown",
   "id": "faf0ccea",
   "metadata": {},
   "source": [
    "## Learning curves to check for over/underfitting"
   ]
  },
  {
   "cell_type": "code",
   "execution_count": 152,
   "id": "159fa4c0",
   "metadata": {},
   "outputs": [],
   "source": [
    "X_vectorized = vectorizer.fit_transform(X)"
   ]
  },
  {
   "cell_type": "code",
   "execution_count": 153,
   "id": "7b09ade9",
   "metadata": {},
   "outputs": [
    {
     "data": {
      "text/plain": [
       "(97885, 72399)"
      ]
     },
     "execution_count": 153,
     "metadata": {},
     "output_type": "execute_result"
    }
   ],
   "source": [
    "X_vectorized.shape"
   ]
  },
  {
   "cell_type": "code",
   "execution_count": 155,
   "id": "b95cbfd3",
   "metadata": {},
   "outputs": [
    {
     "data": {
      "image/png": "[encoded data removed]",
      "text/plain": [
       "<Figure size 640x480 with 1 Axes>"
      ]
     },
     "metadata": {},
     "output_type": "display_data"
    }
   ],
   "source": [
    "from sklearn.model_selection import learning_curve\n",
    "\n",
    "# Get train scores, train sizes, and validation scores using `learning_curve`\n",
    "train_sizes, train_scores, test_scores = learning_curve(\n",
    "    estimator = MultinomialNB(alpha=0.05),\n",
    "    X = X_vectorized, \n",
    "    y = y, \n",
    "    train_sizes =[40000,50000,60000,70000,75000], \n",
    "    cv = 5, scoring='accuracy'\n",
    ")\n",
    "\n",
    "# Take the mean of cross-validated train scores and validation scores\n",
    "train_scores_mean = np.mean(train_scores, axis=1)\n",
    "test_scores_mean = np.mean(test_scores, axis=1)\n",
    "\n",
    "# Plot the learning curves!\n",
    "plt.plot(train_sizes, train_scores_mean, label = 'Training score')\n",
    "plt.plot(train_sizes, test_scores_mean, label = 'Test score')\n",
    "plt.ylabel('accuracy score', fontsize = 14)\n",
    "plt.xlabel('Training set size', fontsize = 14)\n",
    "plt.title('Learning curves', fontsize = 18, y = 1.03)\n",
    "#plt.xlim([0, 1000])\n",
    "plt.ylim([0, 1])\n",
    "plt.legend();"
   ]
  },
  {
   "cell_type": "markdown",
   "id": "e70816cd",
   "metadata": {},
   "source": [
    "Model initially starts by overfitting (high variance ) - it is not able to generalise on new data.  Around 60000 iterations the lines begin to converge - potentiallyl underfitting a bit. The only hyper-parameter in NB is alpha → Higher alpha will give us almost the same probabilities → which is underfitting and lower alpha values will make the model underfit. \n",
    "\n",
    "There is a gap between training and test lines - perhaps the train data set does not represent the test set. To improve this in the future, to use a more representative dataset across target y and increase data."
   ]
  },
  {
   "cell_type": "markdown",
   "id": "3dde1113",
   "metadata": {},
   "source": [
    "## Tune parameters"
   ]
  },
  {
   "cell_type": "code",
   "execution_count": 52,
   "id": "f7e22a37",
   "metadata": {},
   "outputs": [
    {
     "data": {
      "text/plain": [
       "0.54"
      ]
     },
     "execution_count": 52,
     "metadata": {},
     "output_type": "execute_result"
    }
   ],
   "source": [
    "# Pipeline vectorizer + Naive Bayes\n",
    "pipeline_naive_bayes = make_pipeline(TfidfVectorizer(), \n",
    "                                     MultinomialNB())\n",
    "\n",
    "# Cross-validation to check metrics\n",
    "cv_results = cross_validate(pipeline_naive_bayes, X_train, y_train, cv = 5, scoring = [\"accuracy\"])\n",
    "average_accuracy = cv_results[\"test_accuracy\"].mean()\n",
    "np.round(average_accuracy,2)"
   ]
  },
  {
   "cell_type": "code",
   "execution_count": 55,
   "id": "77b62bf5",
   "metadata": {},
   "outputs": [
    {
     "data": {
      "text/plain": [
       "{'analyzer': 'word',\n",
       " 'binary': False,\n",
       " 'decode_error': 'strict',\n",
       " 'dtype': numpy.float64,\n",
       " 'encoding': 'utf-8',\n",
       " 'input': 'content',\n",
       " 'lowercase': True,\n",
       " 'max_df': 1.0,\n",
       " 'max_features': None,\n",
       " 'min_df': 1,\n",
       " 'ngram_range': (1, 1),\n",
       " 'norm': 'l2',\n",
       " 'preprocessor': None,\n",
       " 'smooth_idf': True,\n",
       " 'stop_words': None,\n",
       " 'strip_accents': None,\n",
       " 'sublinear_tf': False,\n",
       " 'token_pattern': '(?u)\\\\b\\\\w\\\\w+\\\\b',\n",
       " 'tokenizer': None,\n",
       " 'use_idf': True,\n",
       " 'vocabulary': None}"
      ]
     },
     "execution_count": 55,
     "metadata": {},
     "output_type": "execute_result"
    }
   ],
   "source": [
    "vectorizer.get_params()"
   ]
  },
  {
   "cell_type": "code",
   "execution_count": 59,
   "id": "ba83fd7f",
   "metadata": {},
   "outputs": [
    {
     "name": "stdout",
     "output_type": "stream",
     "text": [
      "Fitting 5 folds for each of 36 candidates, totalling 180 fits\n",
      "Best Score = 0.6072933919696459\n",
      "Best params = {'multinomialnb__alpha': 0.05, 'tfidfvectorizer__min_df': 0, 'tfidfvectorizer__ngram_range': (1, 2)}\n"
     ]
    }
   ],
   "source": [
    "from sklearn.model_selection import GridSearchCV\n",
    "\n",
    "# Define the grid of parameters\n",
    "parameters = {\n",
    "    'tfidfvectorizer__ngram_range': ((1,1),(1,2), (2,2)),\n",
    "    'tfidfvectorizer__min_df': (0, 0.01,0.01, 0.02),\n",
    "    'multinomialnb__alpha': (0.25,0.05,0.1),}\n",
    "\n",
    "# Perform Grid Search\n",
    "grid_search = GridSearchCV(pipeline_naive_bayes,parameters, scoring = \"accuracy\",\n",
    "                           cv = 5, n_jobs=-1, verbose=1)\n",
    "\n",
    "grid_search.fit(X_train,y_train)\n",
    "\n",
    "# Best score\n",
    "print(f\"Best Score = {grid_search.best_score_}\")\n",
    "\n",
    "# Best params\n",
    "print(f\"Best params = {grid_search.best_params_}\")"
   ]
  },
  {
   "cell_type": "markdown",
   "id": "ca714fe0",
   "metadata": {},
   "source": [
    "## Update NB model with best params"
   ]
  },
  {
   "cell_type": "code",
   "execution_count": 69,
   "id": "42716539",
   "metadata": {},
   "outputs": [],
   "source": [
    "pipe = make_pipeline(TfidfVectorizer(ngram_range=(1,2)), \n",
    "                                     MultinomialNB(alpha=0.05))\n",
    "\n",
    "\n",
    "pipe.fit(X_train,y_train)\n",
    "\n",
    "# Make predictions\n",
    "y_pred = pipe.predict(X_test)\n"
   ]
  },
  {
   "cell_type": "code",
   "execution_count": 67,
   "id": "cabe304f",
   "metadata": {},
   "outputs": [
    {
     "data": {
      "text/plain": [
       "0.6146228402865571"
      ]
     },
     "execution_count": 67,
     "metadata": {},
     "output_type": "execute_result"
    }
   ],
   "source": [
    "# Score model\n",
    "pipe.score(X_test,y_test)"
   ]
  },
  {
   "cell_type": "code",
   "execution_count": 70,
   "id": "2a011c8b",
   "metadata": {},
   "outputs": [
    {
     "name": "stdout",
     "output_type": "stream",
     "text": [
      "Range Accuracy on Multinomial Naive Bayes : 61.46228402865571 %\n"
     ]
    }
   ],
   "source": [
    "from sklearn.metrics import accuracy_score\n",
    "# Check metrics of y_pred\n",
    "acc = accuracy_score(y_pred, y_test)\n",
    "print('Range Accuracy on Multinomial Naive Bayes : {} %'.format(acc*100))"
   ]
  },
  {
   "cell_type": "markdown",
   "id": "a775f9b0",
   "metadata": {},
   "source": [
    "# Use model"
   ]
  },
  {
   "cell_type": "code",
   "execution_count": 141,
   "id": "b99c142e",
   "metadata": {},
   "outputs": [
    {
     "name": "stdout",
     "output_type": "stream",
     "text": [
      "58364    tight atmosphere good combination different me...\n",
      "Name: comment_pp, dtype: object\n",
      "['High']\n"
     ]
    }
   ],
   "source": [
    "# test model\n",
    "print(X_test.iloc[0:1])\n",
    "print(pipe.predict(['tight atmosphere g!od']))"
   ]
  },
  {
   "cell_type": "code",
   "execution_count": 146,
   "id": "d7c8c070",
   "metadata": {},
   "outputs": [],
   "source": [
    "def user_input(text):\n",
    "    X = clean_text(text)\n",
    "    print(f' Predicted rating: {pipe.predict([X])[0]}')"
   ]
  },
  {
   "cell_type": "code",
   "execution_count": 147,
   "id": "0e8a63cb",
   "metadata": {},
   "outputs": [
    {
     "name": "stdout",
     "output_type": "stream",
     "text": [
      " Predicted rating: Bad\n"
     ]
    }
   ],
   "source": [
    "# Bad rating attempt\n",
    "user_input('It was a rubbish game. Hated it')"
   ]
  },
  {
   "cell_type": "code",
   "execution_count": 148,
   "id": "3e9cff40",
   "metadata": {},
   "outputs": [
    {
     "name": "stdout",
     "output_type": "stream",
     "text": [
      " Predicted rating: High\n"
     ]
    }
   ],
   "source": [
    "# Good rating attempt\n",
    "user_input('It was wonderful game!!!!! Top notch. Loved it ::::::)!')"
   ]
  },
  {
   "cell_type": "code",
   "execution_count": 149,
   "id": "a34e155a",
   "metadata": {},
   "outputs": [
    {
     "name": "stdout",
     "output_type": "stream",
     "text": [
      " Predicted rating: Average\n"
     ]
    }
   ],
   "source": [
    "# Average rating attempt\n",
    "user_input('So so, nothing special. It was ok. ')"
   ]
  }
 ],
 "metadata": {
  "kernelspec": {
   "display_name": "Python 3 (ipykernel)",
   "language": "python",
   "name": "python3"
  },
  "language_info": {
   "codemirror_mode": {
    "name": "ipython",
    "version": 3
   },
   "file_extension": ".py",
   "mimetype": "text/x-python",
   "name": "python",
   "nbconvert_exporter": "python",
   "pygments_lexer": "ipython3",
   "version": "3.9.13"
  },
  "toc": {
   "base_numbering": 1,
   "nav_menu": {},
   "number_sections": true,
   "sideBar": true,
   "skip_h1_title": false,
   "title_cell": "Table of Contents",
   "title_sidebar": "Contents",
   "toc_cell": false,
   "toc_position": {},
   "toc_section_display": true,
   "toc_window_display": false
  }
 },
 "nbformat": 4,
 "nbformat_minor": 5
}
