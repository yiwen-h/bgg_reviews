{
 "cells": [
  {
   "cell_type": "markdown",
   "id": "cc4cb571",
   "metadata": {},
   "source": [
    "# BGG review score prediction: deep learning approach (YH)"
   ]
  },
  {
   "cell_type": "code",
   "execution_count": 1,
   "id": "172a9095",
   "metadata": {},
   "outputs": [],
   "source": [
    "import pandas as pd\n",
    "import numpy as np"
   ]
  },
  {
   "cell_type": "code",
   "execution_count": 2,
   "id": "1a2bc8e8",
   "metadata": {},
   "outputs": [
    {
     "data": {
      "text/html": [
       "<div>\n",
       "<style scoped>\n",
       "    .dataframe tbody tr th:only-of-type {\n",
       "        vertical-align: middle;\n",
       "    }\n",
       "\n",
       "    .dataframe tbody tr th {\n",
       "        vertical-align: top;\n",
       "    }\n",
       "\n",
       "    .dataframe thead th {\n",
       "        text-align: right;\n",
       "    }\n",
       "</style>\n",
       "<table border=\"1\" class=\"dataframe\">\n",
       "  <thead>\n",
       "    <tr style=\"text-align: right;\">\n",
       "      <th></th>\n",
       "      <th>Unnamed: 0.1</th>\n",
       "      <th>Unnamed: 0</th>\n",
       "      <th>user</th>\n",
       "      <th>rating</th>\n",
       "      <th>comment</th>\n",
       "      <th>ID</th>\n",
       "      <th>name</th>\n",
       "    </tr>\n",
       "  </thead>\n",
       "  <tbody>\n",
       "    <tr>\n",
       "      <th>0</th>\n",
       "      <td>4108284</td>\n",
       "      <td>4108284</td>\n",
       "      <td>PegasusGamesNYC</td>\n",
       "      <td>2.0</td>\n",
       "      <td>Played it once and didn't like it</td>\n",
       "      <td>9209</td>\n",
       "      <td>Ticket to Ride</td>\n",
       "    </tr>\n",
       "    <tr>\n",
       "      <th>1</th>\n",
       "      <td>9412682</td>\n",
       "      <td>9412682</td>\n",
       "      <td>captaincomic</td>\n",
       "      <td>4.0</td>\n",
       "      <td>Several things to dislike: Player elimination;...</td>\n",
       "      <td>24068</td>\n",
       "      <td>Shadow Hunters</td>\n",
       "    </tr>\n",
       "    <tr>\n",
       "      <th>2</th>\n",
       "      <td>3448962</td>\n",
       "      <td>3448962</td>\n",
       "      <td>jblomquist</td>\n",
       "      <td>4.0</td>\n",
       "      <td>Seems like an ok game but it doesn't really wo...</td>\n",
       "      <td>150376</td>\n",
       "      <td>Dead of Winter: A Crossroads Game</td>\n",
       "    </tr>\n",
       "    <tr>\n",
       "      <th>3</th>\n",
       "      <td>10640158</td>\n",
       "      <td>10640158</td>\n",
       "      <td>Rothro</td>\n",
       "      <td>3.0</td>\n",
       "      <td>Flux and Munchkin mixed but worse. Way way way...</td>\n",
       "      <td>234190</td>\n",
       "      <td>Unstable Unicorns</td>\n",
       "    </tr>\n",
       "    <tr>\n",
       "      <th>4</th>\n",
       "      <td>14938520</td>\n",
       "      <td>14938520</td>\n",
       "      <td>armourer84</td>\n",
       "      <td>3.0</td>\n",
       "      <td>The game open the player to be sieged by group...</td>\n",
       "      <td>6281</td>\n",
       "      <td>Eketorp</td>\n",
       "    </tr>\n",
       "  </tbody>\n",
       "</table>\n",
       "</div>"
      ],
      "text/plain": [
       "   Unnamed: 0.1  Unnamed: 0             user  rating  \\\n",
       "0       4108284     4108284  PegasusGamesNYC     2.0   \n",
       "1       9412682     9412682     captaincomic     4.0   \n",
       "2       3448962     3448962       jblomquist     4.0   \n",
       "3      10640158    10640158           Rothro     3.0   \n",
       "4      14938520    14938520       armourer84     3.0   \n",
       "\n",
       "                                             comment      ID  \\\n",
       "0                  Played it once and didn't like it    9209   \n",
       "1  Several things to dislike: Player elimination;...   24068   \n",
       "2  Seems like an ok game but it doesn't really wo...  150376   \n",
       "3  Flux and Munchkin mixed but worse. Way way way...  234190   \n",
       "4  The game open the player to be sieged by group...    6281   \n",
       "\n",
       "                                name  \n",
       "0                     Ticket to Ride  \n",
       "1                     Shadow Hunters  \n",
       "2  Dead of Winter: A Crossroads Game  \n",
       "3                  Unstable Unicorns  \n",
       "4                            Eketorp  "
      ]
     },
     "execution_count": 2,
     "metadata": {},
     "output_type": "execute_result"
    }
   ],
   "source": [
    "df = pd.read_csv('../data/clean_data.csv')\n",
    "df = df.drop_duplicates()\n",
    "df.head()"
   ]
  },
  {
   "cell_type": "code",
   "execution_count": 3,
   "id": "3030af4a",
   "metadata": {},
   "outputs": [],
   "source": [
    "X = df['comment']\n",
    "y = df['rating']"
   ]
  },
  {
   "cell_type": "code",
   "execution_count": 7,
   "id": "6c37fc3d",
   "metadata": {},
   "outputs": [
    {
     "data": {
      "text/plain": [
       "0                        Played it once and didn't like it\n",
       "1        Several things to dislike: Player elimination;...\n",
       "2        Seems like an ok game but it doesn't really wo...\n",
       "3        Flux and Munchkin mixed but worse. Way way way...\n",
       "4        The game open the player to be sieged by group...\n",
       "                               ...                        \n",
       "99995    as you get a little more familiar with it you ...\n",
       "99996    This is a fun, fast, and clever game.  It feel...\n",
       "99997                                              Amazing\n",
       "99998    Nice one :) First off, i bought it to play sol...\n",
       "99999    Kids rating  My daughter enjoys this one a lot...\n",
       "Name: comment, Length: 100000, dtype: object"
      ]
     },
     "execution_count": 7,
     "metadata": {},
     "output_type": "execute_result"
    }
   ],
   "source": []
  },
  {
   "cell_type": "code",
   "execution_count": 4,
   "id": "fef32fb6",
   "metadata": {},
   "outputs": [],
   "source": [
    "from sklearn.model_selection import train_test_split\n",
    "\n",
    "X_train, X_test, y_train, y_test = train_test_split(X,y, test_size = 0.2)"
   ]
  },
  {
   "cell_type": "code",
   "execution_count": 5,
   "id": "64e5eccc",
   "metadata": {},
   "outputs": [
    {
     "name": "stderr",
     "output_type": "stream",
     "text": [
      "2022-09-16 14:14:56.438843: I tensorflow/core/platform/cpu_feature_guard.cc:193] This TensorFlow binary is optimized with oneAPI Deep Neural Network Library (oneDNN) to use the following CPU instructions in performance-critical operations:  AVX2 FMA\n",
      "To enable them in other operations, rebuild TensorFlow with the appropriate compiler flags.\n",
      "2022-09-16 14:14:56.582213: W tensorflow/stream_executor/platform/default/dso_loader.cc:64] Could not load dynamic library 'libcudart.so.11.0'; dlerror: libcudart.so.11.0: cannot open shared object file: No such file or directory\n",
      "2022-09-16 14:14:56.582249: I tensorflow/stream_executor/cuda/cudart_stub.cc:29] Ignore above cudart dlerror if you do not have a GPU set up on your machine.\n",
      "2022-09-16 14:14:56.624497: E tensorflow/stream_executor/cuda/cuda_blas.cc:2981] Unable to register cuBLAS factory: Attempting to register factory for plugin cuBLAS when one has already been registered\n",
      "2022-09-16 14:14:57.304064: W tensorflow/stream_executor/platform/default/dso_loader.cc:64] Could not load dynamic library 'libnvinfer.so.7'; dlerror: libnvinfer.so.7: cannot open shared object file: No such file or directory\n",
      "2022-09-16 14:14:57.304213: W tensorflow/stream_executor/platform/default/dso_loader.cc:64] Could not load dynamic library 'libnvinfer_plugin.so.7'; dlerror: libnvinfer_plugin.so.7: cannot open shared object file: No such file or directory\n",
      "2022-09-16 14:14:57.304225: W tensorflow/compiler/tf2tensorrt/utils/py_utils.cc:38] TF-TRT Warning: Cannot dlopen some TensorRT libraries. If you would like to use Nvidia GPU with TensorRT, please make sure the missing libraries mentioned above are installed properly.\n"
     ]
    },
    {
     "name": "stdout",
     "output_type": "stream",
     "text": [
      "There are 82297 different words in your corpus\n"
     ]
    }
   ],
   "source": [
    "from tensorflow.keras.preprocessing.sequence import pad_sequences\n",
    "from tensorflow.keras.preprocessing.text import Tokenizer\n",
    "\n",
    "### Let's tokenize the vocabulary \n",
    "tk = Tokenizer()\n",
    "tk.fit_on_texts(X)\n",
    "vocab_size = len(tk.word_index)\n",
    "print(f'There are {vocab_size} different words in your corpus')\n",
    "X_token = tk.texts_to_sequences(X)"
   ]
  },
  {
   "cell_type": "code",
   "execution_count": 6,
   "id": "36acad41",
   "metadata": {},
   "outputs": [
    {
     "name": "stdout",
     "output_type": "stream",
     "text": [
      "39.87476\n"
     ]
    },
    {
     "data": {
      "image/png": "[encoded data removed]",
      "text/plain": [
       "<Figure size 640x480 with 1 Axes>"
      ]
     },
     "metadata": {},
     "output_type": "display_data"
    }
   ],
   "source": [
    "import matplotlib.pyplot as plt\n",
    "lengths = [len(each) for each in X_token]\n",
    "print(pd.Series(lengths).mean())\n",
    "plt.hist(lengths);"
   ]
  },
  {
   "cell_type": "code",
   "execution_count": null,
   "id": "c02fde91",
   "metadata": {},
   "outputs": [],
   "source": []
  },
  {
   "cell_type": "code",
   "execution_count": null,
   "id": "1ddbeab8",
   "metadata": {},
   "outputs": [],
   "source": []
  },
  {
   "cell_type": "code",
   "execution_count": null,
   "id": "66a250e1",
   "metadata": {},
   "outputs": [],
   "source": []
  },
  {
   "cell_type": "code",
   "execution_count": null,
   "id": "6577ce9a",
   "metadata": {},
   "outputs": [],
   "source": []
  },
  {
   "cell_type": "code",
   "execution_count": null,
   "id": "3e598f8b",
   "metadata": {},
   "outputs": [],
   "source": []
  },
  {
   "cell_type": "code",
   "execution_count": null,
   "id": "86d1f56f",
   "metadata": {},
   "outputs": [],
   "source": []
  },
  {
   "cell_type": "code",
   "execution_count": null,
   "id": "b885b10a",
   "metadata": {},
   "outputs": [],
   "source": []
  },
  {
   "cell_type": "code",
   "execution_count": null,
   "id": "1461c647",
   "metadata": {},
   "outputs": [],
   "source": []
  },
  {
   "cell_type": "code",
   "execution_count": null,
   "id": "3bd18608",
   "metadata": {},
   "outputs": [],
   "source": []
  },
  {
   "cell_type": "code",
   "execution_count": null,
   "id": "6460e506",
   "metadata": {},
   "outputs": [],
   "source": []
  },
  {
   "cell_type": "code",
   "execution_count": null,
   "id": "40329b09",
   "metadata": {},
   "outputs": [],
   "source": []
  }
 ],
 "metadata": {
  "kernelspec": {
   "display_name": "Python 3 (ipykernel)",
   "language": "python",
   "name": "python3"
  },
  "language_info": {
   "codemirror_mode": {
    "name": "ipython",
    "version": 3
   },
   "file_extension": ".py",
   "mimetype": "text/x-python",
   "name": "python",
   "nbconvert_exporter": "python",
   "pygments_lexer": "ipython3",
   "version": "3.9.13"
  },
  "toc": {
   "base_numbering": 1,
   "nav_menu": {},
   "number_sections": true,
   "sideBar": true,
   "skip_h1_title": true,
   "title_cell": "Table of Contents",
   "title_sidebar": "Contents",
   "toc_cell": false,
   "toc_position": {
    "height": "calc(100% - 180px)",
    "left": "10px",
    "top": "150px",
    "width": "256px"
   },
   "toc_section_display": true,
   "toc_window_display": true
  }
 },
 "nbformat": 4,
 "nbformat_minor": 5
}
