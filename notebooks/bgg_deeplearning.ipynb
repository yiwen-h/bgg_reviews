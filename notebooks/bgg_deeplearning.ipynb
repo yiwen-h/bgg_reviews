{
 "cells": [
  {
   "cell_type": "markdown",
   "id": "4710cd0d",
   "metadata": {},
   "source": [
    "# BGG review score prediction: deep learning approach (YH)"
   ]
  },
  {
   "cell_type": "code",
   "execution_count": 1,
   "id": "9e3a572b",
   "metadata": {},
   "outputs": [],
   "source": [
    "import pandas as pd\n",
    "import numpy as np"
   ]
  },
  {
   "cell_type": "code",
   "execution_count": 4,
   "id": "c0bafbf0",
   "metadata": {},
   "outputs": [
    {
     "data": {
      "text/html": [
       "<div>\n",
       "<style scoped>\n",
       "    .dataframe tbody tr th:only-of-type {\n",
       "        vertical-align: middle;\n",
       "    }\n",
       "\n",
       "    .dataframe tbody tr th {\n",
       "        vertical-align: top;\n",
       "    }\n",
       "\n",
       "    .dataframe thead th {\n",
       "        text-align: right;\n",
       "    }\n",
       "</style>\n",
       "<table border=\"1\" class=\"dataframe\">\n",
       "  <thead>\n",
       "    <tr style=\"text-align: right;\">\n",
       "      <th></th>\n",
       "      <th>Unnamed: 0.1</th>\n",
       "      <th>Unnamed: 0</th>\n",
       "      <th>user</th>\n",
       "      <th>rating</th>\n",
       "      <th>comment</th>\n",
       "      <th>ID</th>\n",
       "      <th>name</th>\n",
       "    </tr>\n",
       "  </thead>\n",
       "  <tbody>\n",
       "    <tr>\n",
       "      <th>0</th>\n",
       "      <td>4108284</td>\n",
       "      <td>4108284</td>\n",
       "      <td>PegasusGamesNYC</td>\n",
       "      <td>2.0</td>\n",
       "      <td>Played it once and didn't like it</td>\n",
       "      <td>9209</td>\n",
       "      <td>Ticket to Ride</td>\n",
       "    </tr>\n",
       "    <tr>\n",
       "      <th>1</th>\n",
       "      <td>9412682</td>\n",
       "      <td>9412682</td>\n",
       "      <td>captaincomic</td>\n",
       "      <td>4.0</td>\n",
       "      <td>Several things to dislike: Player elimination;...</td>\n",
       "      <td>24068</td>\n",
       "      <td>Shadow Hunters</td>\n",
       "    </tr>\n",
       "    <tr>\n",
       "      <th>2</th>\n",
       "      <td>3448962</td>\n",
       "      <td>3448962</td>\n",
       "      <td>jblomquist</td>\n",
       "      <td>4.0</td>\n",
       "      <td>Seems like an ok game but it doesn't really wo...</td>\n",
       "      <td>150376</td>\n",
       "      <td>Dead of Winter: A Crossroads Game</td>\n",
       "    </tr>\n",
       "    <tr>\n",
       "      <th>3</th>\n",
       "      <td>10640158</td>\n",
       "      <td>10640158</td>\n",
       "      <td>Rothro</td>\n",
       "      <td>3.0</td>\n",
       "      <td>Flux and Munchkin mixed but worse. Way way way...</td>\n",
       "      <td>234190</td>\n",
       "      <td>Unstable Unicorns</td>\n",
       "    </tr>\n",
       "    <tr>\n",
       "      <th>4</th>\n",
       "      <td>14938520</td>\n",
       "      <td>14938520</td>\n",
       "      <td>armourer84</td>\n",
       "      <td>3.0</td>\n",
       "      <td>The game open the player to be sieged by group...</td>\n",
       "      <td>6281</td>\n",
       "      <td>Eketorp</td>\n",
       "    </tr>\n",
       "  </tbody>\n",
       "</table>\n",
       "</div>"
      ],
      "text/plain": [
       "   Unnamed: 0.1  Unnamed: 0             user  rating  \\\n",
       "0       4108284     4108284  PegasusGamesNYC     2.0   \n",
       "1       9412682     9412682     captaincomic     4.0   \n",
       "2       3448962     3448962       jblomquist     4.0   \n",
       "3      10640158    10640158           Rothro     3.0   \n",
       "4      14938520    14938520       armourer84     3.0   \n",
       "\n",
       "                                             comment      ID  \\\n",
       "0                  Played it once and didn't like it    9209   \n",
       "1  Several things to dislike: Player elimination;...   24068   \n",
       "2  Seems like an ok game but it doesn't really wo...  150376   \n",
       "3  Flux and Munchkin mixed but worse. Way way way...  234190   \n",
       "4  The game open the player to be sieged by group...    6281   \n",
       "\n",
       "                                name  \n",
       "0                     Ticket to Ride  \n",
       "1                     Shadow Hunters  \n",
       "2  Dead of Winter: A Crossroads Game  \n",
       "3                  Unstable Unicorns  \n",
       "4                            Eketorp  "
      ]
     },
     "execution_count": 4,
     "metadata": {},
     "output_type": "execute_result"
    }
   ],
   "source": [
    "df = pd.read_csv('../data/clean_data.csv')\n",
    "df.head()"
   ]
  },
  {
   "cell_type": "code",
   "execution_count": 5,
   "id": "a34b1979",
   "metadata": {},
   "outputs": [],
   "source": [
    "X = df['comment']\n",
    "y = df['rating']"
   ]
  },
  {
   "cell_type": "code",
   "execution_count": 6,
   "id": "717bbdc3",
   "metadata": {},
   "outputs": [
    {
     "data": {
      "text/plain": [
       "0                        Played it once and didn't like it\n",
       "1        Several things to dislike: Player elimination;...\n",
       "2        Seems like an ok game but it doesn't really wo...\n",
       "3        Flux and Munchkin mixed but worse. Way way way...\n",
       "4        The game open the player to be sieged by group...\n",
       "                               ...                        \n",
       "99995    as you get a little more familiar with it you ...\n",
       "99996    This is a fun, fast, and clever game.  It feel...\n",
       "99997                                              Amazing\n",
       "99998    Nice one :) First off, i bought it to play sol...\n",
       "99999    Kids rating  My daughter enjoys this one a lot...\n",
       "Name: comment, Length: 100000, dtype: object"
      ]
     },
     "execution_count": 6,
     "metadata": {},
     "output_type": "execute_result"
    }
   ],
   "source": [
    "X"
   ]
  },
  {
   "cell_type": "code",
   "execution_count": 8,
   "id": "f4d31721",
   "metadata": {},
   "outputs": [
    {
     "ename": "ModuleNotFoundError",
     "evalue": "No module named 'tensorflow'",
     "output_type": "error",
     "traceback": [
      "\u001b[0;31m---------------------------------------------------------------------------\u001b[0m",
      "\u001b[0;31mModuleNotFoundError\u001b[0m                       Traceback (most recent call last)",
      "Cell \u001b[0;32mIn [8], line 1\u001b[0m\n\u001b[0;32m----> 1\u001b[0m \u001b[38;5;28;01mfrom\u001b[39;00m \u001b[38;5;21;01mtensorflow\u001b[39;00m\u001b[38;5;21;01m.\u001b[39;00m\u001b[38;5;21;01mkeras\u001b[39;00m\u001b[38;5;21;01m.\u001b[39;00m\u001b[38;5;21;01mpreprocessing\u001b[39;00m\u001b[38;5;21;01m.\u001b[39;00m\u001b[38;5;21;01msequence\u001b[39;00m \u001b[38;5;28;01mimport\u001b[39;00m pad_sequences\n\u001b[1;32m      2\u001b[0m \u001b[38;5;28;01mfrom\u001b[39;00m \u001b[38;5;21;01mtensorflow\u001b[39;00m\u001b[38;5;21;01m.\u001b[39;00m\u001b[38;5;21;01mkeras\u001b[39;00m\u001b[38;5;21;01m.\u001b[39;00m\u001b[38;5;21;01mpreprocessing\u001b[39;00m\u001b[38;5;21;01m.\u001b[39;00m\u001b[38;5;21;01mtext\u001b[39;00m \u001b[38;5;28;01mimport\u001b[39;00m Tokenizer\n\u001b[1;32m      4\u001b[0m \u001b[38;5;66;03m### Let's tokenize the vocabulary \u001b[39;00m\n",
      "\u001b[0;31mModuleNotFoundError\u001b[0m: No module named 'tensorflow'"
     ]
    }
   ],
   "source": [
    "from tensorflow.keras.preprocessing.sequence import pad_sequences\n",
    "from tensorflow.keras.preprocessing.text import Tokenizer\n",
    "\n",
    "### Let's tokenize the vocabulary \n",
    "tk = Tokenizer()\n",
    "tk.fit_on_texts(X)\n",
    "vocab_size = len(tk.word_index)\n",
    "print(f'There are {vocab_size} different words in your corpus')\n",
    "X_token = tk.texts_to_sequences(X)"
   ]
  },
  {
   "cell_type": "code",
   "execution_count": 9,
   "id": "11d0cb26",
   "metadata": {},
   "outputs": [
    {
     "ename": "NameError",
     "evalue": "name 'X_token' is not defined",
     "output_type": "error",
     "traceback": [
      "\u001b[0;31m---------------------------------------------------------------------------\u001b[0m",
      "\u001b[0;31mNameError\u001b[0m                                 Traceback (most recent call last)",
      "Cell \u001b[0;32mIn [9], line 1\u001b[0m\n\u001b[0;32m----> 1\u001b[0m \u001b[43mX_token\u001b[49m\u001b[38;5;241m.\u001b[39mshape\n",
      "\u001b[0;31mNameError\u001b[0m: name 'X_token' is not defined"
     ]
    }
   ],
   "source": [
    "X_token.shape"
   ]
  },
  {
   "cell_type": "code",
   "execution_count": null,
   "id": "24779b66",
   "metadata": {},
   "outputs": [],
   "source": []
  }
 ],
 "metadata": {
  "kernelspec": {
   "display_name": "Python 3 (ipykernel)",
   "language": "python",
   "name": "python3"
  },
  "language_info": {
   "codemirror_mode": {
    "name": "ipython",
    "version": 3
   },
   "file_extension": ".py",
   "mimetype": "text/x-python",
   "name": "python",
   "nbconvert_exporter": "python",
   "pygments_lexer": "ipython3",
   "version": "3.8.12"
  },
  "toc": {
   "base_numbering": 1,
   "nav_menu": {},
   "number_sections": true,
   "sideBar": true,
   "skip_h1_title": true,
   "title_cell": "Table of Contents",
   "title_sidebar": "Contents",
   "toc_cell": false,
   "toc_position": {},
   "toc_section_display": true,
   "toc_window_display": true
  }
 },
 "nbformat": 4,
 "nbformat_minor": 5
}
