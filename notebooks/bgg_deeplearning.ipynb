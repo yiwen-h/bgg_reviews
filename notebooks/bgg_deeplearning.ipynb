{
 "cells": [
  {
   "cell_type": "markdown",
   "id": "27e34f96",
   "metadata": {},
   "source": [
    "# BGG review score prediction: deep learning approach (YH)"
   ]
  },
  {
   "cell_type": "code",
   "execution_count": 1,
   "id": "2c2da1f2",
   "metadata": {},
   "outputs": [],
   "source": [
    "import pandas as pd\n",
    "import numpy as np"
   ]
  },
  {
   "cell_type": "code",
   "execution_count": 2,
   "id": "eca1fae7",
   "metadata": {},
   "outputs": [
    {
     "data": {
      "text/plain": [
       "(97885, 2)"
      ]
     },
     "execution_count": 2,
     "metadata": {},
     "output_type": "execute_result"
    }
   ],
   "source": [
    "df = pd.read_csv('../data/clean_data.csv')\n",
    "df = df[['comment', 'rating']].drop_duplicates()\n",
    "df.shape"
   ]
  },
  {
   "cell_type": "code",
   "execution_count": 3,
   "id": "2e57d1de",
   "metadata": {},
   "outputs": [
    {
     "data": {
      "text/plain": [
       "(92261, 2)"
      ]
     },
     "execution_count": 3,
     "metadata": {},
     "output_type": "execute_result"
    }
   ],
   "source": [
    "def isEnglish(s):\n",
    "    try:\n",
    "        s.encode(encoding='utf-8').decode('ascii')\n",
    "    except UnicodeDecodeError:\n",
    "        return False\n",
    "    else:\n",
    "        return True\n",
    "    \n",
    "df_eng = df[df['comment'].apply(isEnglish)]\n",
    "df_eng.shape"
   ]
  },
  {
   "cell_type": "code",
   "execution_count": 4,
   "id": "210f65fe",
   "metadata": {},
   "outputs": [],
   "source": [
    "X = df_eng['comment']\n",
    "y = df_eng['rating']"
   ]
  },
  {
   "cell_type": "code",
   "execution_count": 5,
   "id": "e4d938da",
   "metadata": {},
   "outputs": [
    {
     "data": {
      "text/plain": [
       "0                                     play once didnt like\n",
       "1        several thing dislike player elimination which...\n",
       "2        seem like ok game but doesnt really work for o...\n",
       "3           flux munchkin mix but bad way way way too long\n",
       "4        the game open the player sieged by group ease ...\n",
       "                               ...                        \n",
       "99994    at heart scrabble variant like more than scrab...\n",
       "99995    get little more familiar with realize make gam...\n",
       "99996    fun fast clever game feel like tricktaking gam...\n",
       "99998    nice one first off buy play solitaire but the ...\n",
       "99999    kid rat daughter enjoy one lot improvement ove...\n",
       "Name: comment, Length: 92261, dtype: object"
      ]
     },
     "execution_count": 5,
     "metadata": {},
     "output_type": "execute_result"
    }
   ],
   "source": [
    "from nltk.corpus import stopwords \n",
    "import string\n",
    "from nltk.stem.wordnet import WordNetLemmatizer\n",
    "from nltk import word_tokenize \n",
    "\n",
    "def clean (text):\n",
    "    for punctuation in string.punctuation:\n",
    "        text = text.replace(punctuation, '') # Remove Punctuation\n",
    "    lowercased = text.lower() # Lower Case\n",
    "    tokenized = word_tokenize(lowercased) # Tokenize\n",
    "    words_only = [word for word in tokenized if word.isalpha()] # Remove numbers\n",
    "    lemma=WordNetLemmatizer() # Initiate Lemmatizer\n",
    "    lemmatized = [lemma.lemmatize(word, pos = 'n') for word in words_only] # Lemmatize\n",
    "    lemmatized1 = [lemma.lemmatize(word, pos = 'v') for word in lemmatized] # Lemmatize\n",
    "    lemmatized2 = [lemma.lemmatize(word, pos = 'a') for word in lemmatized1] # Lemmatize\n",
    "    lemmatized3 = [lemma.lemmatize(word, pos = 'r') for word in lemmatized2] # Lemmatize\n",
    "    stop_words = ['it', 'and', 'an', 'a', 'my', 'this', 'that', 'to', 'be', 'is', 'i', 'you'] # Make stopword list\n",
    "    without_stopwords = [word for word in lemmatized3 if not word in stop_words] \n",
    "    back_into_string = ' '.join(without_stopwords)\n",
    "    return back_into_string\n",
    "\n",
    "# Apply to all texts\n",
    "clean_X = X.apply(clean)\n",
    "clean_X"
   ]
  },
  {
   "cell_type": "code",
   "execution_count": 6,
   "id": "9f543da0",
   "metadata": {},
   "outputs": [],
   "source": [
    "from sklearn.model_selection import train_test_split\n",
    "\n",
    "X_train, X_test, y_train, y_test = train_test_split(clean_X, y, test_size=0.2)"
   ]
  },
  {
   "cell_type": "markdown",
   "id": "734180be",
   "metadata": {},
   "source": [
    "## Tensorflow embeddings"
   ]
  },
  {
   "cell_type": "code",
   "execution_count": 7,
   "id": "219a0e54",
   "metadata": {},
   "outputs": [
    {
     "name": "stderr",
     "output_type": "stream",
     "text": [
      "2022-09-16 15:19:01.409881: I tensorflow/core/platform/cpu_feature_guard.cc:193] This TensorFlow binary is optimized with oneAPI Deep Neural Network Library (oneDNN) to use the following CPU instructions in performance-critical operations:  AVX2 FMA\n",
      "To enable them in other operations, rebuild TensorFlow with the appropriate compiler flags.\n",
      "2022-09-16 15:19:01.562665: W tensorflow/stream_executor/platform/default/dso_loader.cc:64] Could not load dynamic library 'libcudart.so.11.0'; dlerror: libcudart.so.11.0: cannot open shared object file: No such file or directory\n",
      "2022-09-16 15:19:01.562693: I tensorflow/stream_executor/cuda/cudart_stub.cc:29] Ignore above cudart dlerror if you do not have a GPU set up on your machine.\n",
      "2022-09-16 15:19:01.596395: E tensorflow/stream_executor/cuda/cuda_blas.cc:2981] Unable to register cuBLAS factory: Attempting to register factory for plugin cuBLAS when one has already been registered\n",
      "2022-09-16 15:19:02.280566: W tensorflow/stream_executor/platform/default/dso_loader.cc:64] Could not load dynamic library 'libnvinfer.so.7'; dlerror: libnvinfer.so.7: cannot open shared object file: No such file or directory\n",
      "2022-09-16 15:19:02.280674: W tensorflow/stream_executor/platform/default/dso_loader.cc:64] Could not load dynamic library 'libnvinfer_plugin.so.7'; dlerror: libnvinfer_plugin.so.7: cannot open shared object file: No such file or directory\n",
      "2022-09-16 15:19:02.280685: W tensorflow/compiler/tf2tensorrt/utils/py_utils.cc:38] TF-TRT Warning: Cannot dlopen some TensorRT libraries. If you would like to use Nvidia GPU with TensorRT, please make sure the missing libraries mentioned above are installed properly.\n"
     ]
    }
   ],
   "source": [
    "from tensorflow.keras.preprocessing.sequence import pad_sequences\n",
    "from tensorflow.keras.preprocessing.text import Tokenizer\n",
    "\n",
    "### Let's tokenize the vocabulary \n",
    "tk = Tokenizer()\n",
    "tk.fit_on_texts(X_train)\n",
    "vocab_size = len(tk.word_index)\n",
    "X_train_token = tk.texts_to_sequences(X_train)\n",
    "X_test_token = tk.texts_to_sequences(X_test)"
   ]
  },
  {
   "cell_type": "code",
   "execution_count": 8,
   "id": "6b88721b",
   "metadata": {},
   "outputs": [
    {
     "name": "stdout",
     "output_type": "stream",
     "text": [
      "30.004281378712335\n"
     ]
    },
    {
     "data": {
      "image/png": "[encoded data removed]",
      "text/plain": [
       "<Figure size 640x480 with 1 Axes>"
      ]
     },
     "metadata": {},
     "output_type": "display_data"
    }
   ],
   "source": [
    "import matplotlib.pyplot as plt\n",
    "lengths = [len(each) for each in X_train_token]\n",
    "print(pd.Series(lengths).mean())\n",
    "plt.hist(lengths);"
   ]
  },
  {
   "cell_type": "code",
   "execution_count": 9,
   "id": "90092e05",
   "metadata": {},
   "outputs": [
    {
     "name": "stdout",
     "output_type": "stream",
     "text": [
      "There are 42992 different words in the train set\n"
     ]
    }
   ],
   "source": [
    "vocab_size = len(tk.word_index)\n",
    "\n",
    "print(f'There are {vocab_size} different words in the train set')"
   ]
  },
  {
   "cell_type": "code",
   "execution_count": 10,
   "id": "1c5f78a7",
   "metadata": {},
   "outputs": [],
   "source": [
    "from tensorflow.keras.preprocessing.sequence import pad_sequences\n",
    "\n",
    "X_train_pad = pad_sequences(X_train_token, dtype='float32', padding='post', maxlen = 100)\n",
    "X_test_pad = pad_sequences(X_test_token, dtype='float32', padding='post', maxlen = 100)"
   ]
  },
  {
   "cell_type": "code",
   "execution_count": 11,
   "id": "98fa3cf8",
   "metadata": {},
   "outputs": [
    {
     "name": "stderr",
     "output_type": "stream",
     "text": [
      "2022-09-16 15:19:06.832493: W tensorflow/stream_executor/platform/default/dso_loader.cc:64] Could not load dynamic library 'libcuda.so.1'; dlerror: libcuda.so.1: cannot open shared object file: No such file or directory\n",
      "2022-09-16 15:19:06.832542: W tensorflow/stream_executor/cuda/cuda_driver.cc:263] failed call to cuInit: UNKNOWN ERROR (303)\n",
      "2022-09-16 15:19:06.832559: I tensorflow/stream_executor/cuda/cuda_diagnostics.cc:156] kernel driver does not appear to be running on this host (YH-PC): /proc/driver/nvidia/version does not exist\n",
      "2022-09-16 15:19:06.832775: I tensorflow/core/platform/cpu_feature_guard.cc:193] This TensorFlow binary is optimized with oneAPI Deep Neural Network Library (oneDNN) to use the following CPU instructions in performance-critical operations:  AVX2 FMA\n",
      "To enable them in other operations, rebuild TensorFlow with the appropriate compiler flags.\n"
     ]
    }
   ],
   "source": [
    "from tensorflow.keras import Sequential, layers\n",
    "\n",
    "embedding_dimension = 50\n",
    "\n",
    "model = Sequential()\n",
    "model.add(layers.Embedding(input_dim=vocab_size + 1, output_dim=embedding_dimension, mask_zero=True))\n",
    "model.add(layers.LSTM(20))\n",
    "model.add(layers.Dense(10, activation=\"relu\"))\n",
    "model.add(layers.Dense(1, activation=\"linear\"))\n",
    "\n",
    "model.compile(loss='mse', optimizer='rmsprop', metrics=['mse', 'mae'])"
   ]
  },
  {
   "cell_type": "code",
   "execution_count": 12,
   "id": "79d25ff3",
   "metadata": {},
   "outputs": [
    {
     "name": "stdout",
     "output_type": "stream",
     "text": [
      "Epoch 1/20\n",
      "3230/3230 [==============================] - 325s 100ms/step - loss: 5.3373 - mse: 5.3373 - mae: 1.8604 - val_loss: 3.7474 - val_mse: 3.7474 - val_mae: 1.5267\n",
      "Epoch 2/20\n",
      "3230/3230 [==============================] - 336s 104ms/step - loss: 3.4083 - mse: 3.4083 - mae: 1.4363 - val_loss: 3.6950 - val_mse: 3.6950 - val_mae: 1.5070\n",
      "Epoch 3/20\n",
      "3230/3230 [==============================] - 321s 99ms/step - loss: 3.0674 - mse: 3.0674 - mae: 1.3494 - val_loss: 3.2659 - val_mse: 3.2659 - val_mae: 1.4184\n",
      "Epoch 4/20\n",
      "3230/3230 [==============================] - 315s 98ms/step - loss: 2.8608 - mse: 2.8608 - mae: 1.2929 - val_loss: 3.2341 - val_mse: 3.2341 - val_mae: 1.3952\n",
      "Epoch 5/20\n",
      "3230/3230 [==============================] - 589s 182ms/step - loss: 2.6911 - mse: 2.6911 - mae: 1.2443 - val_loss: 3.2069 - val_mse: 3.2069 - val_mae: 1.3954\n",
      "Epoch 6/20\n",
      "3230/3230 [==============================] - 331s 102ms/step - loss: 2.5359 - mse: 2.5359 - mae: 1.1971 - val_loss: 3.2450 - val_mse: 3.2450 - val_mae: 1.3889\n",
      "Epoch 7/20\n",
      "3230/3230 [==============================] - 338s 105ms/step - loss: 2.3903 - mse: 2.3903 - mae: 1.1507 - val_loss: 3.2011 - val_mse: 3.2011 - val_mae: 1.3807\n",
      "Epoch 8/20\n",
      "3230/3230 [==============================] - 349s 108ms/step - loss: 2.2523 - mse: 2.2523 - mae: 1.1048 - val_loss: 3.2819 - val_mse: 3.2819 - val_mae: 1.3913\n",
      "Epoch 9/20\n",
      "3230/3230 [==============================] - 349s 108ms/step - loss: 2.1236 - mse: 2.1236 - mae: 1.0635 - val_loss: 3.2804 - val_mse: 3.2804 - val_mae: 1.3933\n"
     ]
    },
    {
     "data": {
      "text/plain": [
       "<keras.callbacks.History at 0x7fef53b98a30>"
      ]
     },
     "execution_count": 12,
     "metadata": {},
     "output_type": "execute_result"
    }
   ],
   "source": [
    "from tensorflow.keras.callbacks import EarlyStopping\n",
    "\n",
    "es = EarlyStopping(patience=2, restore_best_weights=True)\n",
    "\n",
    "model.fit(X_train_pad, y_train, \n",
    "          epochs=20, \n",
    "          batch_size=16,\n",
    "          validation_split=0.3,\n",
    "          callbacks=[es]\n",
    "         )"
   ]
  },
  {
   "cell_type": "markdown",
   "id": "e0fb431e",
   "metadata": {},
   "source": [
    "## Model evaluation"
   ]
  },
  {
   "cell_type": "code",
   "execution_count": 14,
   "id": "52e23319",
   "metadata": {},
   "outputs": [
    {
     "name": "stdout",
     "output_type": "stream",
     "text": [
      "577/577 [==============================] - 8s 12ms/step\n"
     ]
    },
    {
     "data": {
      "text/plain": [
       "array([[3.0154233],\n",
       "       [7.8441772],\n",
       "       [5.6258125],\n",
       "       ...,\n",
       "       [4.878806 ],\n",
       "       [7.456971 ],\n",
       "       [6.1511197]], dtype=float32)"
      ]
     },
     "execution_count": 14,
     "metadata": {},
     "output_type": "execute_result"
    }
   ],
   "source": [
    "y_preds = model.predict(X_test_pad)\n",
    "y_preds"
   ]
  },
  {
   "cell_type": "code",
   "execution_count": 16,
   "id": "1dc69e55",
   "metadata": {},
   "outputs": [
    {
     "data": {
      "text/plain": [
       "1.3755398313120466"
      ]
     },
     "execution_count": 16,
     "metadata": {},
     "output_type": "execute_result"
    }
   ],
   "source": [
    "from sklearn.metrics import mean_absolute_error\n",
    "\n",
    "score = mean_absolute_error(y_test, y_preds)\n",
    "score"
   ]
  },
  {
   "cell_type": "code",
   "execution_count": 19,
   "id": "2e07aa59",
   "metadata": {},
   "outputs": [
    {
     "data": {
      "text/plain": [
       "0        3.0\n",
       "1        8.0\n",
       "2        6.0\n",
       "3        7.0\n",
       "4        3.0\n",
       "        ... \n",
       "18448    8.0\n",
       "18449    5.0\n",
       "18450    5.0\n",
       "18451    7.0\n",
       "18452    6.0\n",
       "Length: 18453, dtype: float32"
      ]
     },
     "execution_count": 19,
     "metadata": {},
     "output_type": "execute_result"
    }
   ],
   "source": [
    "y_pred_rounded = pd.Series(y_preds.flatten()).round(0)\n",
    "y_pred_rounded"
   ]
  },
  {
   "cell_type": "code",
   "execution_count": 20,
   "id": "67f4c670",
   "metadata": {},
   "outputs": [
    {
     "data": {
      "text/plain": [
       "0.25567658375331925"
      ]
     },
     "execution_count": 20,
     "metadata": {},
     "output_type": "execute_result"
    }
   ],
   "source": [
    "from sklearn.metrics import accuracy_score\n",
    "\n",
    "model_accuracy = accuracy_score(y_test, y_pred_rounded)\n",
    "model_accuracy"
   ]
  },
  {
   "cell_type": "code",
   "execution_count": 62,
   "id": "f79d7a22",
   "metadata": {},
   "outputs": [
    {
     "data": {
      "text/plain": [
       "0.591827887064434"
      ]
     },
     "execution_count": 62,
     "metadata": {},
     "output_type": "execute_result"
    }
   ],
   "source": [
    "model_accuracy2"
   ]
  },
  {
   "cell_type": "code",
   "execution_count": 60,
   "id": "15419122",
   "metadata": {},
   "outputs": [],
   "source": [
    "labels1 = ['Bad','Average','High']\n",
    "y_test_binned = pd.qcut(y_test,q=3, labels=labels1)\n",
    "y_pred_rounded_binned = pd.qcut(y_pred_rounded,q=3, labels=labels1)\n",
    "model_accuracy2 = accuracy_score(y_test_binned, y_pred_rounded_binned)\n",
    "model_accuracy2\n",
    "model.save('../raw_data/model.h5')"
   ]
  },
  {
   "cell_type": "markdown",
   "id": "ffdae159",
   "metadata": {},
   "source": [
    "## Classifier"
   ]
  },
  {
   "cell_type": "code",
   "execution_count": 37,
   "id": "a08c3039",
   "metadata": {},
   "outputs": [
    {
     "data": {
      "text/plain": [
       "array([[0., 0., 0., ..., 0., 0., 0.],\n",
       "       [0., 1., 0., ..., 0., 0., 0.],\n",
       "       [0., 0., 0., ..., 0., 0., 0.],\n",
       "       ...,\n",
       "       [0., 0., 0., ..., 0., 0., 0.],\n",
       "       [0., 0., 0., ..., 0., 0., 1.],\n",
       "       [0., 1., 0., ..., 0., 0., 0.]], dtype=float32)"
      ]
     },
     "execution_count": 37,
     "metadata": {},
     "output_type": "execute_result"
    }
   ],
   "source": [
    "from tensorflow.keras.utils import to_categorical\n",
    "\n",
    "y_train_cat = to_categorical(y_train)\n",
    "y_train_cat"
   ]
  },
  {
   "cell_type": "code",
   "execution_count": 38,
   "id": "c0d49db2",
   "metadata": {},
   "outputs": [
    {
     "name": "stdout",
     "output_type": "stream",
     "text": [
      "Epoch 1/20\n",
      "3230/3230 [==============================] - 290s 89ms/step - loss: 1.9800 - accuracy: 0.2945 - val_loss: 1.8727 - val_accuracy: 0.3080\n",
      "Epoch 2/20\n",
      "3230/3230 [==============================] - 326s 101ms/step - loss: 1.8099 - accuracy: 0.3266 - val_loss: 1.8295 - val_accuracy: 0.3217\n",
      "Epoch 3/20\n",
      "3230/3230 [==============================] - 337s 104ms/step - loss: 1.7523 - accuracy: 0.3427 - val_loss: 1.8180 - val_accuracy: 0.3268\n",
      "Epoch 4/20\n",
      "3230/3230 [==============================] - 322s 100ms/step - loss: 1.7133 - accuracy: 0.3595 - val_loss: 1.8256 - val_accuracy: 0.3249\n",
      "Epoch 5/20\n",
      "3230/3230 [==============================] - 321s 99ms/step - loss: 1.6750 - accuracy: 0.3732 - val_loss: 1.8041 - val_accuracy: 0.3279\n",
      "Epoch 6/20\n",
      "3230/3230 [==============================] - 312s 97ms/step - loss: 1.6372 - accuracy: 0.3883 - val_loss: 1.8254 - val_accuracy: 0.3244\n",
      "Epoch 7/20\n",
      "3230/3230 [==============================] - 309s 96ms/step - loss: 1.5939 - accuracy: 0.4072 - val_loss: 1.8428 - val_accuracy: 0.3229\n"
     ]
    },
    {
     "data": {
      "text/plain": [
       "<keras.callbacks.History at 0x7fef17b7b2b0>"
      ]
     },
     "execution_count": 38,
     "metadata": {},
     "output_type": "execute_result"
    }
   ],
   "source": [
    "from tensorflow.keras import Sequential, layers\n",
    "\n",
    "embedding_dimension = 50\n",
    "\n",
    "model2 = Sequential()\n",
    "model2.add(layers.Embedding(input_dim=vocab_size + 1, output_dim=embedding_dimension, mask_zero=True))\n",
    "model2.add(layers.LSTM(20))\n",
    "model2.add(layers.Dense(15, activation=\"relu\"))\n",
    "model2.add(layers.Dense(11, activation=\"softmax\"))\n",
    "\n",
    "model2.compile(loss='categorical_crossentropy', optimizer='rmsprop', metrics=['accuracy'])\n",
    "\n",
    "es = EarlyStopping(patience=2, restore_best_weights=True)\n",
    "\n",
    "model2.fit(X_train_pad, y_train_cat, \n",
    "          epochs=20, \n",
    "          batch_size=16,\n",
    "          validation_split=0.3,\n",
    "          callbacks=[es]\n",
    "         )"
   ]
  },
  {
   "cell_type": "code",
   "execution_count": 40,
   "id": "a09327cb",
   "metadata": {},
   "outputs": [
    {
     "name": "stdout",
     "output_type": "stream",
     "text": [
      "577/577 [==============================] - 8s 13ms/step\n"
     ]
    },
    {
     "data": {
      "text/plain": [
       "array([[3.3977796e-10, 2.0613944e-02, 7.0490152e-02, ..., 2.6278682e-02,\n",
       "        6.2563233e-03, 2.4565833e-03],\n",
       "       [3.5301612e-12, 2.4080928e-04, 1.1237544e-03, ..., 4.4912580e-01,\n",
       "        1.9430898e-01, 8.8630997e-02],\n",
       "       [1.0420402e-09, 2.8093020e-02, 7.1281984e-02, ..., 9.2547074e-02,\n",
       "        3.4784399e-02, 2.1675581e-02],\n",
       "       ...,\n",
       "       [2.8731391e-09, 2.5767669e-02, 4.9757168e-02, ..., 1.6918863e-01,\n",
       "        7.1697414e-02, 4.7364350e-02],\n",
       "       [9.0198569e-09, 6.4923801e-03, 1.0956968e-02, ..., 3.2941696e-01,\n",
       "        1.8331778e-01, 1.2472490e-01],\n",
       "       [3.6968888e-08, 1.8223375e-02, 2.5406731e-02, ..., 2.6748222e-01,\n",
       "        1.2298410e-01, 6.9926657e-02]], dtype=float32)"
      ]
     },
     "execution_count": 40,
     "metadata": {},
     "output_type": "execute_result"
    }
   ],
   "source": [
    "model2_preds = model2.predict(X_test_pad)\n",
    "model2_preds\n"
   ]
  },
  {
   "cell_type": "code",
   "execution_count": 41,
   "id": "468a4513",
   "metadata": {},
   "outputs": [],
   "source": [
    "model2.save('../raw_data/model2.h5')"
   ]
  },
  {
   "cell_type": "code",
   "execution_count": null,
   "id": "c3392ea5",
   "metadata": {},
   "outputs": [],
   "source": []
  },
  {
   "cell_type": "code",
   "execution_count": 57,
   "id": "aafb6680",
   "metadata": {},
   "outputs": [
    {
     "name": "stdout",
     "output_type": "stream",
     "text": [
      "Epoch 1/20\n",
      "3230/3230 [==============================] - 280s 85ms/step - loss: 0.8602 - accuracy: 0.6006 - val_loss: 0.8275 - val_accuracy: 0.6194\n",
      "Epoch 2/20\n",
      "3230/3230 [==============================] - 304s 94ms/step - loss: 0.7713 - accuracy: 0.6509 - val_loss: 0.8006 - val_accuracy: 0.6388\n",
      "Epoch 3/20\n",
      "3230/3230 [==============================] - 303s 94ms/step - loss: 0.7402 - accuracy: 0.6709 - val_loss: 0.7815 - val_accuracy: 0.6437\n",
      "Epoch 4/20\n",
      "3230/3230 [==============================] - 309s 96ms/step - loss: 0.7146 - accuracy: 0.6846 - val_loss: 0.7909 - val_accuracy: 0.6360\n",
      "Epoch 5/20\n",
      "3230/3230 [==============================] - 307s 95ms/step - loss: 0.6898 - accuracy: 0.6990 - val_loss: 0.7854 - val_accuracy: 0.6528\n"
     ]
    },
    {
     "data": {
      "text/plain": [
       "<keras.callbacks.History at 0x7fee467cde80>"
      ]
     },
     "execution_count": 57,
     "metadata": {},
     "output_type": "execute_result"
    }
   ],
   "source": [
    "from tensorflow.keras import Sequential, layers\n",
    "labels2 = [1,2,3]\n",
    "y_train_binned = pd.qcut(y_train,q=3, labels=labels2)\n",
    "# y_train_binned_cat = to_categorical(y_train_binned)\n",
    "embedding_dimension = 50\n",
    "\n",
    "model3 = Sequential()\n",
    "model3.add(layers.Embedding(input_dim=vocab_size + 1, output_dim=embedding_dimension, mask_zero=True))\n",
    "model3.add(layers.LSTM(20))\n",
    "model3.add(layers.Dense(15, activation=\"relu\"))\n",
    "model3.add(layers.Dense(4, activation=\"sigmoid\"))\n",
    "\n",
    "model3.compile(loss='SparseCategoricalCrossentropy', optimizer='rmsprop', metrics=['accuracy'])\n",
    "\n",
    "es = EarlyStopping(patience=2, restore_best_weights=True)\n",
    "\n",
    "model3.fit(X_train_pad, y_train_binned, \n",
    "          epochs=20, \n",
    "          batch_size=16,\n",
    "          validation_split=0.3,\n",
    "          callbacks=[es]\n",
    "         )\n",
    "\n"
   ]
  },
  {
   "cell_type": "code",
   "execution_count": 58,
   "id": "4f106cd5",
   "metadata": {},
   "outputs": [],
   "source": [
    "model3.save('../raw_data/model3.h5')"
   ]
  },
  {
   "cell_type": "code",
   "execution_count": 59,
   "id": "1e159c1e",
   "metadata": {},
   "outputs": [
    {
     "name": "stdout",
     "output_type": "stream",
     "text": [
      "577/577 [==============================] - 8s 13ms/step\n"
     ]
    },
    {
     "data": {
      "text/plain": [
       "array([[3.4150976e-16, 8.2750642e-01, 3.0659485e-01, 3.0216413e-02],\n",
       "       [1.5994943e-13, 5.2078027e-02, 5.3366977e-01, 8.1599665e-01],\n",
       "       [8.9454959e-16, 6.6510177e-01, 2.5375715e-01, 1.7677014e-01],\n",
       "       ...,\n",
       "       [2.7640601e-15, 5.5437726e-01, 3.8523343e-01, 2.9076800e-01],\n",
       "       [1.9705215e-09, 1.7197174e-01, 4.9798504e-01, 6.6817057e-01],\n",
       "       [1.6893027e-06, 3.9716384e-01, 5.0798142e-01, 5.2715892e-01]],\n",
       "      dtype=float32)"
      ]
     },
     "execution_count": 59,
     "metadata": {},
     "output_type": "execute_result"
    }
   ],
   "source": [
    "model3_preds = model3.predict(X_test_pad)\n",
    "model3_preds"
   ]
  },
  {
   "cell_type": "code",
   "execution_count": null,
   "id": "213a0fc6",
   "metadata": {},
   "outputs": [],
   "source": []
  },
  {
   "cell_type": "code",
   "execution_count": null,
   "id": "7b63d91b",
   "metadata": {},
   "outputs": [],
   "source": []
  },
  {
   "cell_type": "code",
   "execution_count": null,
   "id": "f7d1ec85",
   "metadata": {},
   "outputs": [],
   "source": []
  },
  {
   "cell_type": "code",
   "execution_count": null,
   "id": "2c5c1638",
   "metadata": {},
   "outputs": [],
   "source": []
  },
  {
   "cell_type": "code",
   "execution_count": null,
   "id": "258747db",
   "metadata": {},
   "outputs": [],
   "source": []
  },
  {
   "cell_type": "code",
   "execution_count": null,
   "id": "f53ff74a",
   "metadata": {},
   "outputs": [],
   "source": []
  },
  {
   "cell_type": "code",
   "execution_count": null,
   "id": "5ad00ca2",
   "metadata": {},
   "outputs": [],
   "source": []
  },
  {
   "cell_type": "code",
   "execution_count": null,
   "id": "cc572e11",
   "metadata": {},
   "outputs": [],
   "source": []
  },
  {
   "cell_type": "code",
   "execution_count": null,
   "id": "5718b1ff",
   "metadata": {},
   "outputs": [],
   "source": []
  },
  {
   "cell_type": "code",
   "execution_count": null,
   "id": "f270362b",
   "metadata": {},
   "outputs": [],
   "source": []
  },
  {
   "cell_type": "code",
   "execution_count": null,
   "id": "e64f8ba9",
   "metadata": {},
   "outputs": [],
   "source": []
  }
 ],
 "metadata": {
  "kernelspec": {
   "display_name": "Python 3 (ipykernel)",
   "language": "python",
   "name": "python3"
  },
  "language_info": {
   "codemirror_mode": {
    "name": "ipython",
    "version": 3
   },
   "file_extension": ".py",
   "mimetype": "text/x-python",
   "name": "python",
   "nbconvert_exporter": "python",
   "pygments_lexer": "ipython3",
   "version": "3.9.13"
  },
  "toc": {
   "base_numbering": 1,
   "nav_menu": {},
   "number_sections": true,
   "sideBar": true,
   "skip_h1_title": true,
   "title_cell": "Table of Contents",
   "title_sidebar": "Contents",
   "toc_cell": false,
   "toc_position": {
    "height": "calc(100% - 180px)",
    "left": "10px",
    "top": "150px",
    "width": "256px"
   },
   "toc_section_display": true,
   "toc_window_display": false
  }
 },
 "nbformat": 4,
 "nbformat_minor": 5
}
